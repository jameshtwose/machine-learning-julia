{
 "cells": [
  {
   "cell_type": "markdown",
   "id": "swedish-evaluation",
   "metadata": {},
   "source": [
    "# Using the anomaly detection methods available in neuropy to detect outliers"
   ]
  },
  {
   "cell_type": "code",
   "execution_count": 1,
   "id": "attempted-demographic",
   "metadata": {},
   "outputs": [],
   "source": [
    "import os\n",
    "import pandas as pd\n",
    "import numpy as np\n",
    "import matplotlib.pyplot as plt\n",
    "import seaborn as sns\n",
    "from sklearn.datasets import make_regression"
   ]
  },
  {
   "cell_type": "code",
   "execution_count": 2,
   "id": "loose-leader",
   "metadata": {},
   "outputs": [],
   "source": [
    "current_dir = os.getcwd()\n",
    "os.chdir(current_dir.split(\"/notebooks/\")[0])\n",
    "from neuropy.anomaly_detection import univariate_outlier_removal, iqr_outlier_detector, std_outlier_detector\n",
    "os.chdir(current_dir)"
   ]
  },
  {
   "cell_type": "code",
   "execution_count": 3,
   "id": "animal-flight",
   "metadata": {},
   "outputs": [],
   "source": [
    "amount_of_features = 3\n",
    "X, y, coef = make_regression(n_samples=100,\n",
    "    n_features=amount_of_features,\n",
    "    n_informative=amount_of_features,\n",
    "                             noise=5,\n",
    "                             coef=True, \n",
    "                            random_state=42)"
   ]
  },
  {
   "cell_type": "code",
   "execution_count": 4,
   "id": "amazing-bailey",
   "metadata": {},
   "outputs": [],
   "source": [
    "df = (pd.DataFrame(X, columns=[f\"feat_{x}\" for x in range(0, X.shape[1])])\n",
    ".merge(pd.DataFrame(y, columns=[\"target\"]),\n",
    "      left_index=True,\n",
    "      right_index=True))"
   ]
  },
  {
   "cell_type": "code",
   "execution_count": 5,
   "id": "civilian-weight",
   "metadata": {},
   "outputs": [],
   "source": [
    "df=df.assign(feat_extra = np.random.exponential(scale=3, size = df.shape[0]))"
   ]
  },
  {
   "cell_type": "code",
   "execution_count": 6,
   "id": "reserved-dallas",
   "metadata": {},
   "outputs": [
    {
     "data": {
      "text/html": [
       "<div>\n",
       "<style scoped>\n",
       "    .dataframe tbody tr th:only-of-type {\n",
       "        vertical-align: middle;\n",
       "    }\n",
       "\n",
       "    .dataframe tbody tr th {\n",
       "        vertical-align: top;\n",
       "    }\n",
       "\n",
       "    .dataframe thead th {\n",
       "        text-align: right;\n",
       "    }\n",
       "</style>\n",
       "<table border=\"1\" class=\"dataframe\">\n",
       "  <thead>\n",
       "    <tr style=\"text-align: right;\">\n",
       "      <th></th>\n",
       "      <th>feat_0</th>\n",
       "      <th>feat_1</th>\n",
       "      <th>feat_2</th>\n",
       "      <th>target</th>\n",
       "      <th>feat_extra</th>\n",
       "    </tr>\n",
       "  </thead>\n",
       "  <tbody>\n",
       "    <tr>\n",
       "      <th>0</th>\n",
       "      <td>-0.792521</td>\n",
       "      <td>0.504987</td>\n",
       "      <td>-0.114736</td>\n",
       "      <td>13.149332</td>\n",
       "      <td>1.721547</td>\n",
       "    </tr>\n",
       "    <tr>\n",
       "      <th>1</th>\n",
       "      <td>0.280992</td>\n",
       "      <td>-0.208122</td>\n",
       "      <td>-0.622700</td>\n",
       "      <td>-20.311291</td>\n",
       "      <td>0.088580</td>\n",
       "    </tr>\n",
       "    <tr>\n",
       "      <th>2</th>\n",
       "      <td>0.791032</td>\n",
       "      <td>1.402794</td>\n",
       "      <td>-0.909387</td>\n",
       "      <td>101.284137</td>\n",
       "      <td>1.870621</td>\n",
       "    </tr>\n",
       "    <tr>\n",
       "      <th>3</th>\n",
       "      <td>0.625667</td>\n",
       "      <td>-1.070892</td>\n",
       "      <td>-0.857158</td>\n",
       "      <td>-80.105864</td>\n",
       "      <td>5.632799</td>\n",
       "    </tr>\n",
       "    <tr>\n",
       "      <th>4</th>\n",
       "      <td>-0.342715</td>\n",
       "      <td>-0.161286</td>\n",
       "      <td>-0.802277</td>\n",
       "      <td>-33.212103</td>\n",
       "      <td>1.831134</td>\n",
       "    </tr>\n",
       "  </tbody>\n",
       "</table>\n",
       "</div>"
      ],
      "text/plain": [
       "     feat_0    feat_1    feat_2      target  feat_extra\n",
       "0 -0.792521  0.504987 -0.114736   13.149332    1.721547\n",
       "1  0.280992 -0.208122 -0.622700  -20.311291    0.088580\n",
       "2  0.791032  1.402794 -0.909387  101.284137    1.870621\n",
       "3  0.625667 -1.070892 -0.857158  -80.105864    5.632799\n",
       "4 -0.342715 -0.161286 -0.802277  -33.212103    1.831134"
      ]
     },
     "metadata": {},
     "output_type": "display_data"
    },
    {
     "name": "stdout",
     "output_type": "stream",
     "text": [
      "(100, 5)\n"
     ]
    },
    {
     "data": {
      "text/plain": [
       "(None, None)"
      ]
     },
     "execution_count": 6,
     "metadata": {},
     "output_type": "execute_result"
    }
   ],
   "source": [
    "display(df.head()), print(df.shape)"
   ]
  },
  {
   "cell_type": "markdown",
   "id": "offensive-narrative",
   "metadata": {},
   "source": [
    "## `iqr_outlier_detector`"
   ]
  },
  {
   "cell_type": "code",
   "execution_count": 7,
   "id": "overhead-strain",
   "metadata": {},
   "outputs": [
    {
     "data": {
      "text/plain": [
       "(-1.952571145231041, 1.9731140511169873)"
      ]
     },
     "execution_count": 7,
     "metadata": {},
     "output_type": "execute_result"
    }
   ],
   "source": [
    "is_outlier, lower, upper = iqr_outlier_detector(df[df.columns[0]])\n",
    "lower, upper"
   ]
  },
  {
   "cell_type": "code",
   "execution_count": 8,
   "id": "portuguese-olympus",
   "metadata": {},
   "outputs": [
    {
     "data": {
      "text/plain": [
       "5     2.122156\n",
       "80    2.143944\n",
       "Name: feat_0, dtype: float64"
      ]
     },
     "execution_count": 8,
     "metadata": {},
     "output_type": "execute_result"
    }
   ],
   "source": [
    "df.loc[is_outlier, df.columns[0]]"
   ]
  },
  {
   "cell_type": "markdown",
   "id": "advance-minnesota",
   "metadata": {},
   "source": [
    "## `std_outlier_detector`"
   ]
  },
  {
   "cell_type": "code",
   "execution_count": 9,
   "id": "embedded-charge",
   "metadata": {},
   "outputs": [
    {
     "data": {
      "text/plain": [
       "(-2.3826312646983205, 2.5661632179716007)"
      ]
     },
     "execution_count": 9,
     "metadata": {},
     "output_type": "execute_result"
    }
   ],
   "source": [
    "is_outlier, lower, upper = std_outlier_detector(df[df.columns[0]])\n",
    "lower, upper"
   ]
  },
  {
   "cell_type": "code",
   "execution_count": 10,
   "id": "excess-remark",
   "metadata": {},
   "outputs": [
    {
     "data": {
      "text/plain": [
       "Series([], Name: feat_0, dtype: float64)"
      ]
     },
     "execution_count": 10,
     "metadata": {},
     "output_type": "execute_result"
    }
   ],
   "source": [
    "df.loc[is_outlier, df.columns[0]]"
   ]
  },
  {
   "cell_type": "markdown",
   "id": "whole-victim",
   "metadata": {},
   "source": [
    "## `univariate_outlier_removal`"
   ]
  },
  {
   "cell_type": "code",
   "execution_count": 11,
   "id": "blessed-calculator",
   "metadata": {},
   "outputs": [
    {
     "data": {
      "image/png": "[encoded data removed]",
      "text/plain": [
       "<Figure size 1800x360 with 1 Axes>"
      ]
     },
     "metadata": {
      "needs_background": "light"
     },
     "output_type": "display_data"
    }
   ],
   "source": [
    "def some_outlier_detector(s, threshold=4.):\n",
    "        to_discard = (s < -threshold) | (s > threshold)\n",
    "        return to_discard.values.tolist(), -threshold, threshold\n",
    "df, summary, fig = univariate_outlier_removal(df,\n",
    "                                               nonparam_func=some_outlier_detector,\n",
    "                                               nonparam_args={\"threshold\": 4.},\n",
    "                                               nonparam_name=\"hard threshold, t=4\",\n",
    "                                               remove=False,\n",
    "                                               plot=True,\n",
    "                                               figsize=(25, 5))"
   ]
  },
  {
   "cell_type": "code",
   "execution_count": 12,
   "id": "existing-dressing",
   "metadata": {},
   "outputs": [
    {
     "data": {
      "text/html": [
       "<div>\n",
       "<style scoped>\n",
       "    .dataframe tbody tr th:only-of-type {\n",
       "        vertical-align: middle;\n",
       "    }\n",
       "\n",
       "    .dataframe tbody tr th {\n",
       "        vertical-align: top;\n",
       "    }\n",
       "\n",
       "    .dataframe thead th {\n",
       "        text-align: right;\n",
       "    }\n",
       "</style>\n",
       "<table border=\"1\" class=\"dataframe\">\n",
       "  <thead>\n",
       "    <tr style=\"text-align: right;\">\n",
       "      <th></th>\n",
       "      <th>var</th>\n",
       "      <th>method</th>\n",
       "      <th>outliers-removed</th>\n",
       "      <th>outliers-removed %</th>\n",
       "      <th>cutoff_lower</th>\n",
       "      <th>cutoff_upper</th>\n",
       "      <th>index</th>\n",
       "    </tr>\n",
       "  </thead>\n",
       "  <tbody>\n",
       "    <tr>\n",
       "      <th>0</th>\n",
       "      <td>feat_0</td>\n",
       "      <td>standard deviation, k=3.0</td>\n",
       "      <td>0</td>\n",
       "      <td>0.0</td>\n",
       "      <td>-2.382631</td>\n",
       "      <td>2.566163</td>\n",
       "      <td>[]</td>\n",
       "    </tr>\n",
       "    <tr>\n",
       "      <th>1</th>\n",
       "      <td>feat_1</td>\n",
       "      <td>standard deviation, k=3.0</td>\n",
       "      <td>1</td>\n",
       "      <td>1.0</td>\n",
       "      <td>-3.263908</td>\n",
       "      <td>3.413551</td>\n",
       "      <td>[39]</td>\n",
       "    </tr>\n",
       "    <tr>\n",
       "      <th>2</th>\n",
       "      <td>feat_2</td>\n",
       "      <td>standard deviation, k=3.0</td>\n",
       "      <td>1</td>\n",
       "      <td>1.0</td>\n",
       "      <td>-3.120533</td>\n",
       "      <td>2.754067</td>\n",
       "      <td>[54]</td>\n",
       "    </tr>\n",
       "    <tr>\n",
       "      <th>3</th>\n",
       "      <td>target</td>\n",
       "      <td>standard deviation, k=3.0</td>\n",
       "      <td>1</td>\n",
       "      <td>1.0</td>\n",
       "      <td>-243.625924</td>\n",
       "      <td>254.518482</td>\n",
       "      <td>[39]</td>\n",
       "    </tr>\n",
       "    <tr>\n",
       "      <th>4</th>\n",
       "      <td>feat_extra</td>\n",
       "      <td>hard threshold, t=4</td>\n",
       "      <td>30</td>\n",
       "      <td>30.0</td>\n",
       "      <td>-4.000000</td>\n",
       "      <td>4.000000</td>\n",
       "      <td>[3, 8, 12, 17, 21, 22, 23, 26, 27, 29, 31, 40,...</td>\n",
       "    </tr>\n",
       "  </tbody>\n",
       "</table>\n",
       "</div>"
      ],
      "text/plain": [
       "          var                     method  outliers-removed  \\\n",
       "0      feat_0  standard deviation, k=3.0                 0   \n",
       "1      feat_1  standard deviation, k=3.0                 1   \n",
       "2      feat_2  standard deviation, k=3.0                 1   \n",
       "3      target  standard deviation, k=3.0                 1   \n",
       "4  feat_extra        hard threshold, t=4                30   \n",
       "\n",
       "   outliers-removed %  cutoff_lower  cutoff_upper  \\\n",
       "0                 0.0     -2.382631      2.566163   \n",
       "1                 1.0     -3.263908      3.413551   \n",
       "2                 1.0     -3.120533      2.754067   \n",
       "3                 1.0   -243.625924    254.518482   \n",
       "4                30.0     -4.000000      4.000000   \n",
       "\n",
       "                                               index  \n",
       "0                                                 []  \n",
       "1                                               [39]  \n",
       "2                                               [54]  \n",
       "3                                               [39]  \n",
       "4  [3, 8, 12, 17, 21, 22, 23, 26, 27, 29, 31, 40,...  "
      ]
     },
     "execution_count": 12,
     "metadata": {},
     "output_type": "execute_result"
    }
   ],
   "source": [
    "summary"
   ]
  }
 ],
 "metadata": {
  "kernelspec": {
   "display_name": "general",
   "language": "python",
   "name": "general"
  },
  "language_info": {
   "codemirror_mode": {
    "name": "ipython",
    "version": 3
   },
   "file_extension": ".py",
   "mimetype": "text/x-python",
   "name": "python",
   "nbconvert_exporter": "python",
   "pygments_lexer": "ipython3",
   "version": "3.9.2"
  }
 },
 "nbformat": 4,
 "nbformat_minor": 5
}
