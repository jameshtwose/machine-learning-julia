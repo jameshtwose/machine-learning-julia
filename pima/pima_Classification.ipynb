{
 "cells": [
  {
   "cell_type": "markdown",
   "metadata": {},
   "source": [
    "## PIMA diabetes looking into different sampling options"
   ]
  },
  {
   "cell_type": "code",
   "execution_count": 12,
   "metadata": {},
   "outputs": [
    {
     "name": "stderr",
     "output_type": "stream",
     "text": [
      "\u001b[32m\u001b[1m  Activating\u001b[22m\u001b[39m project at `~/Coding/machine-learning-julia`\n"
     ]
    }
   ],
   "source": [
    "using Pkg\n",
    "Pkg.activate(\"../\")"
   ]
  },
  {
   "cell_type": "code",
   "execution_count": 13,
   "metadata": {},
   "outputs": [
    {
     "ename": "ArgumentError",
     "evalue": "ArgumentError: Package VegaLite [112f6efa-9a02-5b7d-90c0-432ed331239a] is required but does not seem to be installed:\n - Run `Pkg.instantiate()` to install all recorded dependencies.\n",
     "output_type": "error",
     "traceback": [
      "ArgumentError: Package VegaLite [112f6efa-9a02-5b7d-90c0-432ed331239a] is required but does not seem to be installed:\n",
      " - Run `Pkg.instantiate()` to install all recorded dependencies.\n",
      "\n",
      "\n",
      "Stacktrace:\n",
      "  [1] _require(pkg::Base.PkgId)\n",
      "    @ Base ./loading.jl:1306\n",
      "  [2] _require_prelocked(uuidkey::Base.PkgId)\n",
      "    @ Base ./loading.jl:1200\n",
      "  [3] macro expansion\n",
      "    @ ./loading.jl:1180 [inlined]\n",
      "  [4] macro expansion\n",
      "    @ ./lock.jl:223 [inlined]\n",
      "  [5] require(into::Module, mod::Symbol)\n",
      "    @ Base ./loading.jl:1144\n",
      "  [6] eval\n",
      "    @ ./boot.jl:368 [inlined]\n",
      "  [7] include_string(mapexpr::typeof(REPL.softscope), mod::Module, code::String, filename::String)\n",
      "    @ Base ./loading.jl:1428\n",
      "  [8] #invokelatest#2\n",
      "    @ ./essentials.jl:729 [inlined]\n",
      "  [9] invokelatest\n",
      "    @ ./essentials.jl:726 [inlined]\n",
      " [10] (::VSCodeServer.var\"#198#199\"{VSCodeServer.NotebookRunCellArguments, String})()\n",
      "    @ VSCodeServer ~/.vscode/extensions/julialang.language-julia-1.38.2/scripts/packages/VSCodeServer/src/serve_notebook.jl:19\n",
      " [11] withpath(f::VSCodeServer.var\"#198#199\"{VSCodeServer.NotebookRunCellArguments, String}, path::String)\n",
      "    @ VSCodeServer ~/.vscode/extensions/julialang.language-julia-1.38.2/scripts/packages/VSCodeServer/src/repl.jl:249\n",
      " [12] notebook_runcell_request(conn::VSCodeServer.JSONRPC.JSONRPCEndpoint{Base.PipeEndpoint, Base.PipeEndpoint}, params::VSCodeServer.NotebookRunCellArguments)\n",
      "    @ VSCodeServer ~/.vscode/extensions/julialang.language-julia-1.38.2/scripts/packages/VSCodeServer/src/serve_notebook.jl:13\n",
      " [13] dispatch_msg(x::VSCodeServer.JSONRPC.JSONRPCEndpoint{Base.PipeEndpoint, Base.PipeEndpoint}, dispatcher::VSCodeServer.JSONRPC.MsgDispatcher, msg::Dict{String, Any})\n",
      "    @ VSCodeServer.JSONRPC ~/.vscode/extensions/julialang.language-julia-1.38.2/scripts/packages/JSONRPC/src/typed.jl:67\n",
      " [14] serve_notebook(pipename::String, outputchannel_logger::Base.CoreLogging.SimpleLogger; crashreporting_pipename::String)\n",
      "    @ VSCodeServer ~/.vscode/extensions/julialang.language-julia-1.38.2/scripts/packages/VSCodeServer/src/serve_notebook.jl:139\n",
      " [15] top-level scope\n",
      "    @ ~/.vscode/extensions/julialang.language-julia-1.38.2/scripts/notebook/notebook.jl:32"
     ]
    }
   ],
   "source": [
    "using CSV\n",
    "using DataFrames\n",
    "using HTTP\n",
    "# using PlotlyJS\n",
    "using VegaLite\n",
    "using FreqTables\n",
    "using StatsBase\n",
    "using Statistics\n",
    "using MLJ\n",
    "# using StatsPlots\n",
    "Pkg.status()"
   ]
  },
  {
   "cell_type": "code",
   "execution_count": 14,
   "metadata": {},
   "outputs": [
    {
     "data": {
      "text/plain": [
       "120"
      ]
     },
     "metadata": {},
     "output_type": "display_data"
    }
   ],
   "source": [
    "ENV[\"COLUMNS\"]=120"
   ]
  },
  {
   "cell_type": "code",
   "execution_count": 15,
   "metadata": {},
   "outputs": [
    {
     "data": {
      "text/plain": [
       "1:768"
      ]
     },
     "metadata": {},
     "output_type": "display_data"
    }
   ],
   "source": [
    "url = \"https://raw.githubusercontent.com/jameshtwose/example_deliverables/main/classification_examples/pima_diabetes/diabetes.csv\"\n",
    "df = DataFrame(CSV.File(HTTP.get(url).body));\n",
    "df.index = range(1, size(df)[1])"
   ]
  },
  {
   "cell_type": "code",
   "execution_count": 16,
   "metadata": {},
   "outputs": [],
   "source": [
    "df[!, 1: end-2] = mapcols!(ByRow(Float64), df[!, 1: end-2]);"
   ]
  },
  {
   "cell_type": "code",
   "execution_count": 17,
   "metadata": {},
   "outputs": [
    {
     "data": {
      "text/html": [
       "<div><div style = \"float: left;\"><span>3×10 DataFrame</span></div><div style = \"clear: both;\"></div></div><div class = \"data-frame\" style = \"overflow-x: scroll;\"><table class = \"data-frame\" style = \"margin-bottom: 6px;\"><thead><tr class = \"header\"><th class = \"rowNumber\" style = \"font-weight: bold; text-align: right;\">Row</th><th style = \"text-align: left;\">Pregnancies</th><th style = \"text-align: left;\">Glucose</th><th style = \"text-align: left;\">BloodPressure</th><th style = \"text-align: left;\">SkinThickness</th><th style = \"text-align: left;\">Insulin</th><th style = \"text-align: left;\">BMI</th><th style = \"text-align: left;\">DiabetesPedigreeFunction</th><th style = \"text-align: left;\">Age</th><th style = \"text-align: left;\">Outcome</th><th style = \"text-align: left;\">index</th></tr><tr class = \"subheader headerLastRow\"><th class = \"rowNumber\" style = \"font-weight: bold; text-align: right;\"></th><th title = \"Float64\" style = \"text-align: left;\">Float64</th><th title = \"Float64\" style = \"text-align: left;\">Float64</th><th title = \"Float64\" style = \"text-align: left;\">Float64</th><th title = \"Float64\" style = \"text-align: left;\">Float64</th><th title = \"Float64\" style = \"text-align: left;\">Float64</th><th title = \"Float64\" style = \"text-align: left;\">Float64</th><th title = \"Float64\" style = \"text-align: left;\">Float64</th><th title = \"Float64\" style = \"text-align: left;\">Float64</th><th title = \"Int64\" style = \"text-align: left;\">Int64</th><th title = \"Int64\" style = \"text-align: left;\">Int64</th></tr></thead><tbody><tr><td class = \"rowNumber\" style = \"font-weight: bold; text-align: right;\">1</td><td style = \"text-align: right;\">6.0</td><td style = \"text-align: right;\">148.0</td><td style = \"text-align: right;\">72.0</td><td style = \"text-align: right;\">35.0</td><td style = \"text-align: right;\">0.0</td><td style = \"text-align: right;\">33.6</td><td style = \"text-align: right;\">0.627</td><td style = \"text-align: right;\">50.0</td><td style = \"text-align: right;\">1</td><td style = \"text-align: right;\">1</td></tr><tr><td class = \"rowNumber\" style = \"font-weight: bold; text-align: right;\">2</td><td style = \"text-align: right;\">1.0</td><td style = \"text-align: right;\">85.0</td><td style = \"text-align: right;\">66.0</td><td style = \"text-align: right;\">29.0</td><td style = \"text-align: right;\">0.0</td><td style = \"text-align: right;\">26.6</td><td style = \"text-align: right;\">0.351</td><td style = \"text-align: right;\">31.0</td><td style = \"text-align: right;\">0</td><td style = \"text-align: right;\">2</td></tr><tr><td class = \"rowNumber\" style = \"font-weight: bold; text-align: right;\">3</td><td style = \"text-align: right;\">8.0</td><td style = \"text-align: right;\">183.0</td><td style = \"text-align: right;\">64.0</td><td style = \"text-align: right;\">0.0</td><td style = \"text-align: right;\">0.0</td><td style = \"text-align: right;\">23.3</td><td style = \"text-align: right;\">0.672</td><td style = \"text-align: right;\">32.0</td><td style = \"text-align: right;\">1</td><td style = \"text-align: right;\">3</td></tr></tbody></table></div>"
      ],
      "text/latex": [
       "\\begin{tabular}{r|cccccccccc}\n",
       "\t& Pregnancies & Glucose & BloodPressure & SkinThickness & Insulin & BMI & DiabetesPedigreeFunction & Age & Outcome & index\\\\\n",
       "\t\\hline\n",
       "\t& Float64 & Float64 & Float64 & Float64 & Float64 & Float64 & Float64 & Float64 & Int64 & Int64\\\\\n",
       "\t\\hline\n",
       "\t1 & 6.0 & 148.0 & 72.0 & 35.0 & 0.0 & 33.6 & 0.627 & 50.0 & 1 & 1 \\\\\n",
       "\t2 & 1.0 & 85.0 & 66.0 & 29.0 & 0.0 & 26.6 & 0.351 & 31.0 & 0 & 2 \\\\\n",
       "\t3 & 8.0 & 183.0 & 64.0 & 0.0 & 0.0 & 23.3 & 0.672 & 32.0 & 1 & 3 \\\\\n",
       "\\end{tabular}\n"
      ],
      "text/plain": [
       "\u001b[1m3×10 DataFrame\u001b[0m\n",
       "\u001b[1m Row \u001b[0m│\u001b[1m Pregnancies \u001b[0m\u001b[1m Glucose \u001b[0m\u001b[1m BloodPressure \u001b[0m\u001b[1m SkinThickness \u001b[0m\u001b[1m Insulin \u001b[0m\u001b[1m BMI     \u001b[0m\u001b[1m DiabetesPedigreeFunction \u001b[0m\u001b[1m Age     \u001b[0m\u001b[1m Outcom\u001b[0m ⋯\n",
       "     │\u001b[90m Float64     \u001b[0m\u001b[90m Float64 \u001b[0m\u001b[90m Float64       \u001b[0m\u001b[90m Float64       \u001b[0m\u001b[90m Float64 \u001b[0m\u001b[90m Float64 \u001b[0m\u001b[90m Float64                  \u001b[0m\u001b[90m Float64 \u001b[0m\u001b[90m Int64 \u001b[0m ⋯\n",
       "─────┼──────────────────────────────────────────────────────────────────────────────────────────────────────────────────\n",
       "   1 │         6.0    148.0           72.0           35.0      0.0     33.6                     0.627     50.0         ⋯\n",
       "   2 │         1.0     85.0           66.0           29.0      0.0     26.6                     0.351     31.0\n",
       "   3 │         8.0    183.0           64.0            0.0      0.0     23.3                     0.672     32.0\n",
       "\u001b[36m                                                                                                       2 columns omitted\u001b[0m"
      ]
     },
     "metadata": {},
     "output_type": "display_data"
    }
   ],
   "source": [
    "first(df, 3)"
   ]
  },
  {
   "cell_type": "code",
   "execution_count": 18,
   "metadata": {},
   "outputs": [
    {
     "data": {
      "text/plain": [
       "(768, 10)"
      ]
     },
     "metadata": {},
     "output_type": "display_data"
    }
   ],
   "source": [
    "size(df)"
   ]
  },
  {
   "cell_type": "markdown",
   "metadata": {},
   "source": [
    "### Plot the amount of rows in each side of the target\n",
    "#### Looks like the target is imbalanced so this needs to be taken into account"
   ]
  },
  {
   "cell_type": "markdown",
   "metadata": {},
   "source": [
    "#### Also 0 values in everything apart from the target and `Pregnancies` are replaced by NaN values"
   ]
  },
  {
   "cell_type": "code",
   "execution_count": 19,
   "metadata": {},
   "outputs": [],
   "source": [
    "target=\"Outcome\";"
   ]
  },
  {
   "cell_type": "code",
   "execution_count": 20,
   "metadata": {},
   "outputs": [
    {
     "data": {
      "text/plain": [
       "9-element Vector{String}:\n",
       " \"Pregnancies\"\n",
       " \"Glucose\"\n",
       " \"BloodPressure\"\n",
       " \"SkinThickness\"\n",
       " \"Insulin\"\n",
       " \"BMI\"\n",
       " \"DiabetesPedigreeFunction\"\n",
       " \"Age\"\n",
       " \"index\""
      ]
     },
     "metadata": {},
     "output_type": "display_data"
    }
   ],
   "source": [
    "feature_list = names(select(df, Not(target)))"
   ]
  },
  {
   "cell_type": "code",
   "execution_count": 21,
   "metadata": {},
   "outputs": [],
   "source": [
    "tmp_df = select(df, Not([target, \"index\", \"Pregnancies\"]));\n",
    "tmp_df = DataFrame(replace!(Matrix(tmp_df), 0=>NaN), names(tmp_df));\n",
    "df[!, names(tmp_df)] = tmp_df;"
   ]
  },
  {
   "cell_type": "code",
   "execution_count": 22,
   "metadata": {},
   "outputs": [
    {
     "data": {
      "text/html": [
       "<div><div style = \"float: left;\"><span>10×15 DataFrame</span></div><div style = \"clear: both;\"></div></div><div class = \"data-frame\" style = \"overflow-x: scroll;\"><table class = \"data-frame\" style = \"margin-bottom: 6px;\"><thead><tr class = \"header\"><th class = \"rowNumber\" style = \"font-weight: bold; text-align: right;\">Row</th><th style = \"text-align: left;\">variable</th><th style = \"text-align: left;\">mean</th><th style = \"text-align: left;\">std</th><th style = \"text-align: left;\">min</th><th style = \"text-align: left;\">q25</th><th style = \"text-align: left;\">median</th><th style = \"text-align: left;\">q75</th><th style = \"text-align: left;\">max</th><th style = \"text-align: left;\">nunique</th><th style = \"text-align: left;\">nuniqueall</th><th style = \"text-align: left;\">nmissing</th><th style = \"text-align: left;\">nnonmissing</th><th style = \"text-align: left;\">first</th><th style = \"text-align: left;\">last</th><th style = \"text-align: left;\">eltype</th></tr><tr class = \"subheader headerLastRow\"><th class = \"rowNumber\" style = \"font-weight: bold; text-align: right;\"></th><th title = \"Symbol\" style = \"text-align: left;\">Symbol</th><th title = \"Float64\" style = \"text-align: left;\">Float64</th><th title = \"Float64\" style = \"text-align: left;\">Float64</th><th title = \"Real\" style = \"text-align: left;\">Real</th><th title = \"Union{Nothing, Float64}\" style = \"text-align: left;\">Union…</th><th title = \"Union{Nothing, Float64}\" style = \"text-align: left;\">Union…</th><th title = \"Union{Nothing, Float64}\" style = \"text-align: left;\">Union…</th><th title = \"Real\" style = \"text-align: left;\">Real</th><th title = \"Nothing\" style = \"text-align: left;\">Nothing</th><th title = \"Int64\" style = \"text-align: left;\">Int64</th><th title = \"Int64\" style = \"text-align: left;\">Int64</th><th title = \"Int64\" style = \"text-align: left;\">Int64</th><th title = \"Real\" style = \"text-align: left;\">Real</th><th title = \"Real\" style = \"text-align: left;\">Real</th><th title = \"DataType\" style = \"text-align: left;\">DataType</th></tr></thead><tbody><tr><td class = \"rowNumber\" style = \"font-weight: bold; text-align: right;\">1</td><td style = \"text-align: left;\">Pregnancies</td><td style = \"text-align: right;\">3.84505</td><td style = \"text-align: right;\">3.36958</td><td style = \"text-align: right;\">0.0</td><td style = \"text-align: left;\">1.0</td><td style = \"text-align: left;\">3.0</td><td style = \"text-align: left;\">6.0</td><td style = \"text-align: right;\">17.0</td><td style = \"font-style: italic; text-align: left;\"></td><td style = \"text-align: right;\">17</td><td style = \"text-align: right;\">0</td><td style = \"text-align: right;\">768</td><td style = \"text-align: right;\">6.0</td><td style = \"text-align: right;\">1.0</td><td style = \"text-align: left;\">Float64</td></tr><tr><td class = \"rowNumber\" style = \"font-weight: bold; text-align: right;\">2</td><td style = \"text-align: left;\">Glucose</td><td style = \"text-align: right;\">NaN</td><td style = \"text-align: right;\">NaN</td><td style = \"text-align: right;\">NaN</td><td style = \"font-style: italic; text-align: left;\"></td><td style = \"font-style: italic; text-align: left;\"></td><td style = \"font-style: italic; text-align: left;\"></td><td style = \"text-align: right;\">NaN</td><td style = \"font-style: italic; text-align: left;\"></td><td style = \"text-align: right;\">136</td><td style = \"text-align: right;\">0</td><td style = \"text-align: right;\">768</td><td style = \"text-align: right;\">148.0</td><td style = \"text-align: right;\">93.0</td><td style = \"text-align: left;\">Float64</td></tr><tr><td class = \"rowNumber\" style = \"font-weight: bold; text-align: right;\">3</td><td style = \"text-align: left;\">BloodPressure</td><td style = \"text-align: right;\">NaN</td><td style = \"text-align: right;\">NaN</td><td style = \"text-align: right;\">NaN</td><td style = \"font-style: italic; text-align: left;\"></td><td style = \"font-style: italic; text-align: left;\"></td><td style = \"font-style: italic; text-align: left;\"></td><td style = \"text-align: right;\">NaN</td><td style = \"font-style: italic; text-align: left;\"></td><td style = \"text-align: right;\">47</td><td style = \"text-align: right;\">0</td><td style = \"text-align: right;\">768</td><td style = \"text-align: right;\">72.0</td><td style = \"text-align: right;\">70.0</td><td style = \"text-align: left;\">Float64</td></tr><tr><td class = \"rowNumber\" style = \"font-weight: bold; text-align: right;\">4</td><td style = \"text-align: left;\">SkinThickness</td><td style = \"text-align: right;\">NaN</td><td style = \"text-align: right;\">NaN</td><td style = \"text-align: right;\">NaN</td><td style = \"font-style: italic; text-align: left;\"></td><td style = \"font-style: italic; text-align: left;\"></td><td style = \"font-style: italic; text-align: left;\"></td><td style = \"text-align: right;\">NaN</td><td style = \"font-style: italic; text-align: left;\"></td><td style = \"text-align: right;\">51</td><td style = \"text-align: right;\">0</td><td style = \"text-align: right;\">768</td><td style = \"text-align: right;\">35.0</td><td style = \"text-align: right;\">31.0</td><td style = \"text-align: left;\">Float64</td></tr><tr><td class = \"rowNumber\" style = \"font-weight: bold; text-align: right;\">5</td><td style = \"text-align: left;\">Insulin</td><td style = \"text-align: right;\">NaN</td><td style = \"text-align: right;\">NaN</td><td style = \"text-align: right;\">NaN</td><td style = \"font-style: italic; text-align: left;\"></td><td style = \"font-style: italic; text-align: left;\"></td><td style = \"font-style: italic; text-align: left;\"></td><td style = \"text-align: right;\">NaN</td><td style = \"font-style: italic; text-align: left;\"></td><td style = \"text-align: right;\">186</td><td style = \"text-align: right;\">0</td><td style = \"text-align: right;\">768</td><td style = \"text-align: right;\">NaN</td><td style = \"text-align: right;\">NaN</td><td style = \"text-align: left;\">Float64</td></tr><tr><td class = \"rowNumber\" style = \"font-weight: bold; text-align: right;\">6</td><td style = \"text-align: left;\">BMI</td><td style = \"text-align: right;\">NaN</td><td style = \"text-align: right;\">NaN</td><td style = \"text-align: right;\">NaN</td><td style = \"font-style: italic; text-align: left;\"></td><td style = \"font-style: italic; text-align: left;\"></td><td style = \"font-style: italic; text-align: left;\"></td><td style = \"text-align: right;\">NaN</td><td style = \"font-style: italic; text-align: left;\"></td><td style = \"text-align: right;\">248</td><td style = \"text-align: right;\">0</td><td style = \"text-align: right;\">768</td><td style = \"text-align: right;\">33.6</td><td style = \"text-align: right;\">30.4</td><td style = \"text-align: left;\">Float64</td></tr><tr><td class = \"rowNumber\" style = \"font-weight: bold; text-align: right;\">7</td><td style = \"text-align: left;\">DiabetesPedigreeFunction</td><td style = \"text-align: right;\">0.471876</td><td style = \"text-align: right;\">0.331329</td><td style = \"text-align: right;\">0.078</td><td style = \"text-align: left;\">0.24375</td><td style = \"text-align: left;\">0.3725</td><td style = \"text-align: left;\">0.62625</td><td style = \"text-align: right;\">2.42</td><td style = \"font-style: italic; text-align: left;\"></td><td style = \"text-align: right;\">517</td><td style = \"text-align: right;\">0</td><td style = \"text-align: right;\">768</td><td style = \"text-align: right;\">0.627</td><td style = \"text-align: right;\">0.315</td><td style = \"text-align: left;\">Float64</td></tr><tr><td class = \"rowNumber\" style = \"font-weight: bold; text-align: right;\">8</td><td style = \"text-align: left;\">Age</td><td style = \"text-align: right;\">33.2409</td><td style = \"text-align: right;\">11.7602</td><td style = \"text-align: right;\">21.0</td><td style = \"text-align: left;\">24.0</td><td style = \"text-align: left;\">29.0</td><td style = \"text-align: left;\">41.0</td><td style = \"text-align: right;\">81.0</td><td style = \"font-style: italic; text-align: left;\"></td><td style = \"text-align: right;\">52</td><td style = \"text-align: right;\">0</td><td style = \"text-align: right;\">768</td><td style = \"text-align: right;\">50.0</td><td style = \"text-align: right;\">23.0</td><td style = \"text-align: left;\">Float64</td></tr><tr><td class = \"rowNumber\" style = \"font-weight: bold; text-align: right;\">9</td><td style = \"text-align: left;\">Outcome</td><td style = \"text-align: right;\">0.348958</td><td style = \"text-align: right;\">0.476951</td><td style = \"text-align: right;\">0</td><td style = \"text-align: left;\">0.0</td><td style = \"text-align: left;\">0.0</td><td style = \"text-align: left;\">1.0</td><td style = \"text-align: right;\">1</td><td style = \"font-style: italic; text-align: left;\"></td><td style = \"text-align: right;\">2</td><td style = \"text-align: right;\">0</td><td style = \"text-align: right;\">768</td><td style = \"text-align: right;\">1</td><td style = \"text-align: right;\">0</td><td style = \"text-align: left;\">Int64</td></tr><tr><td class = \"rowNumber\" style = \"font-weight: bold; text-align: right;\">10</td><td style = \"text-align: left;\">index</td><td style = \"text-align: right;\">384.5</td><td style = \"text-align: right;\">221.847</td><td style = \"text-align: right;\">1</td><td style = \"text-align: left;\">192.75</td><td style = \"text-align: left;\">384.5</td><td style = \"text-align: left;\">576.25</td><td style = \"text-align: right;\">768</td><td style = \"font-style: italic; text-align: left;\"></td><td style = \"text-align: right;\">768</td><td style = \"text-align: right;\">0</td><td style = \"text-align: right;\">768</td><td style = \"text-align: right;\">1</td><td style = \"text-align: right;\">768</td><td style = \"text-align: left;\">Int64</td></tr></tbody></table></div>"
      ],
      "text/latex": [
       "\\begin{tabular}{r|ccccccccccccc}\n",
       "\t& variable & mean & std & min & q25 & median & q75 & max & nunique & nuniqueall & nmissing & nnonmissing & \\\\\n",
       "\t\\hline\n",
       "\t& Symbol & Float64 & Float64 & Real & Union… & Union… & Union… & Real & Nothing & Int64 & Int64 & Int64 & \\\\\n",
       "\t\\hline\n",
       "\t1 & Pregnancies & 3.84505 & 3.36958 & 0.0 & 1.0 & 3.0 & 6.0 & 17.0 &  & 17 & 0 & 768 & $\\dots$ \\\\\n",
       "\t2 & Glucose & NaN & NaN & NaN &  &  &  & NaN &  & 136 & 0 & 768 & $\\dots$ \\\\\n",
       "\t3 & BloodPressure & NaN & NaN & NaN &  &  &  & NaN &  & 47 & 0 & 768 & $\\dots$ \\\\\n",
       "\t4 & SkinThickness & NaN & NaN & NaN &  &  &  & NaN &  & 51 & 0 & 768 & $\\dots$ \\\\\n",
       "\t5 & Insulin & NaN & NaN & NaN &  &  &  & NaN &  & 186 & 0 & 768 & $\\dots$ \\\\\n",
       "\t6 & BMI & NaN & NaN & NaN &  &  &  & NaN &  & 248 & 0 & 768 & $\\dots$ \\\\\n",
       "\t7 & DiabetesPedigreeFunction & 0.471876 & 0.331329 & 0.078 & 0.24375 & 0.3725 & 0.62625 & 2.42 &  & 517 & 0 & 768 & $\\dots$ \\\\\n",
       "\t8 & Age & 33.2409 & 11.7602 & 21.0 & 24.0 & 29.0 & 41.0 & 81.0 &  & 52 & 0 & 768 & $\\dots$ \\\\\n",
       "\t9 & Outcome & 0.348958 & 0.476951 & 0 & 0.0 & 0.0 & 1.0 & 1 &  & 2 & 0 & 768 & $\\dots$ \\\\\n",
       "\t10 & index & 384.5 & 221.847 & 1 & 192.75 & 384.5 & 576.25 & 768 &  & 768 & 0 & 768 & $\\dots$ \\\\\n",
       "\\end{tabular}\n"
      ],
      "text/plain": [
       "\u001b[1m10×15 DataFrame\u001b[0m\n",
       "\u001b[1m Row \u001b[0m│\u001b[1m variable                 \u001b[0m\u001b[1m mean       \u001b[0m\u001b[1m std        \u001b[0m\u001b[1m min     \u001b[0m\u001b[1m q25     \u001b[0m\u001b[1m median \u001b[0m\u001b[1m q75     \u001b[0m\u001b[1m max    \u001b[0m\u001b[1m nunique \u001b[0m\u001b[1m nuniqueal\u001b[0m ⋯\n",
       "     │\u001b[90m Symbol                   \u001b[0m\u001b[90m Float64    \u001b[0m\u001b[90m Float64    \u001b[0m\u001b[90m Real    \u001b[0m\u001b[90m Union…  \u001b[0m\u001b[90m Union… \u001b[0m\u001b[90m Union…  \u001b[0m\u001b[90m Real   \u001b[0m\u001b[90m Nothing \u001b[0m\u001b[90m Int64    \u001b[0m ⋯\n",
       "─────┼──────────────────────────────────────────────────────────────────────────────────────────────────────────────────\n",
       "   1 │ Pregnancies                 3.84505     3.36958     0.0    1.0      3.0     6.0       17.0  \u001b[90m         \u001b[0m         1 ⋯\n",
       "   2 │ Glucose                   NaN         NaN         NaN     \u001b[90m         \u001b[0m\u001b[90m        \u001b[0m\u001b[90m         \u001b[0m NaN    \u001b[90m         \u001b[0m        13\n",
       "   3 │ BloodPressure             NaN         NaN         NaN     \u001b[90m         \u001b[0m\u001b[90m        \u001b[0m\u001b[90m         \u001b[0m NaN    \u001b[90m         \u001b[0m         4\n",
       "   4 │ SkinThickness             NaN         NaN         NaN     \u001b[90m         \u001b[0m\u001b[90m        \u001b[0m\u001b[90m         \u001b[0m NaN    \u001b[90m         \u001b[0m         5\n",
       "   5 │ Insulin                   NaN         NaN         NaN     \u001b[90m         \u001b[0m\u001b[90m        \u001b[0m\u001b[90m         \u001b[0m NaN    \u001b[90m         \u001b[0m        18 ⋯\n",
       "   6 │ BMI                       NaN         NaN         NaN     \u001b[90m         \u001b[0m\u001b[90m        \u001b[0m\u001b[90m         \u001b[0m NaN    \u001b[90m         \u001b[0m        24\n",
       "   7 │ DiabetesPedigreeFunction    0.471876    0.331329    0.078  0.24375  0.3725  0.62625    2.42 \u001b[90m         \u001b[0m        51\n",
       "   8 │ Age                        33.2409     11.7602     21.0    24.0     29.0    41.0      81.0  \u001b[90m         \u001b[0m         5\n",
       "   9 │ Outcome                     0.348958    0.476951    0      0.0      0.0     1.0        1    \u001b[90m         \u001b[0m           ⋯\n",
       "  10 │ index                     384.5       221.847       1      192.75   384.5   576.25   768    \u001b[90m         \u001b[0m        76\n",
       "\u001b[36m                                                                                                       6 columns omitted\u001b[0m"
      ]
     },
     "metadata": {},
     "output_type": "display_data"
    }
   ],
   "source": [
    "describe(df, :all)"
   ]
  },
  {
   "cell_type": "code",
   "execution_count": 23,
   "metadata": {},
   "outputs": [
    {
     "data": {
      "text/html": [
       "<div><div style = \"float: left;\"><span>5×10 DataFrame</span></div><div style = \"clear: both;\"></div></div><div class = \"data-frame\" style = \"overflow-x: scroll;\"><table class = \"data-frame\" style = \"margin-bottom: 6px;\"><thead><tr class = \"header\"><th class = \"rowNumber\" style = \"font-weight: bold; text-align: right;\">Row</th><th style = \"text-align: left;\">Pregnancies</th><th style = \"text-align: left;\">Glucose</th><th style = \"text-align: left;\">BloodPressure</th><th style = \"text-align: left;\">SkinThickness</th><th style = \"text-align: left;\">Insulin</th><th style = \"text-align: left;\">BMI</th><th style = \"text-align: left;\">DiabetesPedigreeFunction</th><th style = \"text-align: left;\">Age</th><th style = \"text-align: left;\">Outcome</th><th style = \"text-align: left;\">index</th></tr><tr class = \"subheader headerLastRow\"><th class = \"rowNumber\" style = \"font-weight: bold; text-align: right;\"></th><th title = \"Float64\" style = \"text-align: left;\">Float64</th><th title = \"Float64\" style = \"text-align: left;\">Float64</th><th title = \"Float64\" style = \"text-align: left;\">Float64</th><th title = \"Float64\" style = \"text-align: left;\">Float64</th><th title = \"Float64\" style = \"text-align: left;\">Float64</th><th title = \"Float64\" style = \"text-align: left;\">Float64</th><th title = \"Float64\" style = \"text-align: left;\">Float64</th><th title = \"Float64\" style = \"text-align: left;\">Float64</th><th title = \"Int64\" style = \"text-align: left;\">Int64</th><th title = \"Int64\" style = \"text-align: left;\">Int64</th></tr></thead><tbody><tr><td class = \"rowNumber\" style = \"font-weight: bold; text-align: right;\">1</td><td style = \"text-align: right;\">6.0</td><td style = \"text-align: right;\">148.0</td><td style = \"text-align: right;\">72.0</td><td style = \"text-align: right;\">35.0</td><td style = \"text-align: right;\">NaN</td><td style = \"text-align: right;\">33.6</td><td style = \"text-align: right;\">0.627</td><td style = \"text-align: right;\">50.0</td><td style = \"text-align: right;\">1</td><td style = \"text-align: right;\">1</td></tr><tr><td class = \"rowNumber\" style = \"font-weight: bold; text-align: right;\">2</td><td style = \"text-align: right;\">1.0</td><td style = \"text-align: right;\">85.0</td><td style = \"text-align: right;\">66.0</td><td style = \"text-align: right;\">29.0</td><td style = \"text-align: right;\">NaN</td><td style = \"text-align: right;\">26.6</td><td style = \"text-align: right;\">0.351</td><td style = \"text-align: right;\">31.0</td><td style = \"text-align: right;\">0</td><td style = \"text-align: right;\">2</td></tr><tr><td class = \"rowNumber\" style = \"font-weight: bold; text-align: right;\">3</td><td style = \"text-align: right;\">8.0</td><td style = \"text-align: right;\">183.0</td><td style = \"text-align: right;\">64.0</td><td style = \"text-align: right;\">NaN</td><td style = \"text-align: right;\">NaN</td><td style = \"text-align: right;\">23.3</td><td style = \"text-align: right;\">0.672</td><td style = \"text-align: right;\">32.0</td><td style = \"text-align: right;\">1</td><td style = \"text-align: right;\">3</td></tr><tr><td class = \"rowNumber\" style = \"font-weight: bold; text-align: right;\">4</td><td style = \"text-align: right;\">1.0</td><td style = \"text-align: right;\">89.0</td><td style = \"text-align: right;\">66.0</td><td style = \"text-align: right;\">23.0</td><td style = \"text-align: right;\">94.0</td><td style = \"text-align: right;\">28.1</td><td style = \"text-align: right;\">0.167</td><td style = \"text-align: right;\">21.0</td><td style = \"text-align: right;\">0</td><td style = \"text-align: right;\">4</td></tr><tr><td class = \"rowNumber\" style = \"font-weight: bold; text-align: right;\">5</td><td style = \"text-align: right;\">0.0</td><td style = \"text-align: right;\">137.0</td><td style = \"text-align: right;\">40.0</td><td style = \"text-align: right;\">35.0</td><td style = \"text-align: right;\">168.0</td><td style = \"text-align: right;\">43.1</td><td style = \"text-align: right;\">2.288</td><td style = \"text-align: right;\">33.0</td><td style = \"text-align: right;\">1</td><td style = \"text-align: right;\">5</td></tr></tbody></table></div>"
      ],
      "text/latex": [
       "\\begin{tabular}{r|cccccccccc}\n",
       "\t& Pregnancies & Glucose & BloodPressure & SkinThickness & Insulin & BMI & DiabetesPedigreeFunction & Age & Outcome & index\\\\\n",
       "\t\\hline\n",
       "\t& Float64 & Float64 & Float64 & Float64 & Float64 & Float64 & Float64 & Float64 & Int64 & Int64\\\\\n",
       "\t\\hline\n",
       "\t1 & 6.0 & 148.0 & 72.0 & 35.0 & NaN & 33.6 & 0.627 & 50.0 & 1 & 1 \\\\\n",
       "\t2 & 1.0 & 85.0 & 66.0 & 29.0 & NaN & 26.6 & 0.351 & 31.0 & 0 & 2 \\\\\n",
       "\t3 & 8.0 & 183.0 & 64.0 & NaN & NaN & 23.3 & 0.672 & 32.0 & 1 & 3 \\\\\n",
       "\t4 & 1.0 & 89.0 & 66.0 & 23.0 & 94.0 & 28.1 & 0.167 & 21.0 & 0 & 4 \\\\\n",
       "\t5 & 0.0 & 137.0 & 40.0 & 35.0 & 168.0 & 43.1 & 2.288 & 33.0 & 1 & 5 \\\\\n",
       "\\end{tabular}\n"
      ],
      "text/plain": [
       "\u001b[1m5×10 DataFrame\u001b[0m\n",
       "\u001b[1m Row \u001b[0m│\u001b[1m Pregnancies \u001b[0m\u001b[1m Glucose \u001b[0m\u001b[1m BloodPressure \u001b[0m\u001b[1m SkinThickness \u001b[0m\u001b[1m Insulin \u001b[0m\u001b[1m BMI     \u001b[0m\u001b[1m DiabetesPedigreeFunction \u001b[0m\u001b[1m Age     \u001b[0m\u001b[1m Outcom\u001b[0m ⋯\n",
       "     │\u001b[90m Float64     \u001b[0m\u001b[90m Float64 \u001b[0m\u001b[90m Float64       \u001b[0m\u001b[90m Float64       \u001b[0m\u001b[90m Float64 \u001b[0m\u001b[90m Float64 \u001b[0m\u001b[90m Float64                  \u001b[0m\u001b[90m Float64 \u001b[0m\u001b[90m Int64 \u001b[0m ⋯\n",
       "─────┼──────────────────────────────────────────────────────────────────────────────────────────────────────────────────\n",
       "   1 │         6.0    148.0           72.0           35.0    NaN       33.6                     0.627     50.0         ⋯\n",
       "   2 │         1.0     85.0           66.0           29.0    NaN       26.6                     0.351     31.0\n",
       "   3 │         8.0    183.0           64.0          NaN      NaN       23.3                     0.672     32.0\n",
       "   4 │         1.0     89.0           66.0           23.0     94.0     28.1                     0.167     21.0\n",
       "   5 │         0.0    137.0           40.0           35.0    168.0     43.1                     2.288     33.0         ⋯\n",
       "\u001b[36m                                                                                                       2 columns omitted\u001b[0m"
      ]
     },
     "metadata": {},
     "output_type": "display_data"
    }
   ],
   "source": [
    "first(df, 5)"
   ]
  },
  {
   "cell_type": "code",
   "execution_count": 24,
   "metadata": {},
   "outputs": [
    {
     "data": {
      "text/html": [
       "<div><div style = \"float: left;\"><span>2×2 DataFrame</span></div><div style = \"clear: both;\"></div></div><div class = \"data-frame\" style = \"overflow-x: scroll;\"><table class = \"data-frame\" style = \"margin-bottom: 6px;\"><thead><tr class = \"header\"><th class = \"rowNumber\" style = \"font-weight: bold; text-align: right;\">Row</th><th style = \"text-align: left;\">target</th><th style = \"text-align: left;\">Freq</th></tr><tr class = \"subheader headerLastRow\"><th class = \"rowNumber\" style = \"font-weight: bold; text-align: right;\"></th><th title = \"Int64\" style = \"text-align: left;\">Int64</th><th title = \"Int64\" style = \"text-align: left;\">Int64</th></tr></thead><tbody><tr><td class = \"rowNumber\" style = \"font-weight: bold; text-align: right;\">1</td><td style = \"text-align: right;\">0</td><td style = \"text-align: right;\">500</td></tr><tr><td class = \"rowNumber\" style = \"font-weight: bold; text-align: right;\">2</td><td style = \"text-align: right;\">1</td><td style = \"text-align: right;\">268</td></tr></tbody></table></div>"
      ],
      "text/latex": [
       "\\begin{tabular}{r|cc}\n",
       "\t& target & Freq\\\\\n",
       "\t\\hline\n",
       "\t& Int64 & Int64\\\\\n",
       "\t\\hline\n",
       "\t1 & 0 & 500 \\\\\n",
       "\t2 & 1 & 268 \\\\\n",
       "\\end{tabular}\n"
      ],
      "text/plain": [
       "\u001b[1m2×2 DataFrame\u001b[0m\n",
       "\u001b[1m Row \u001b[0m│\u001b[1m target \u001b[0m\u001b[1m Freq  \u001b[0m\n",
       "     │\u001b[90m Int64  \u001b[0m\u001b[90m Int64 \u001b[0m\n",
       "─────┼───────────────\n",
       "   1 │      0    500\n",
       "   2 │      1    268"
      ]
     },
     "metadata": {},
     "output_type": "display_data"
    }
   ],
   "source": [
    "ft = freqtable(df, target)\n",
    "plot_df = DataFrame(target = names(ft)[1], Freq = ft)"
   ]
  },
  {
   "cell_type": "code",
   "execution_count": 25,
   "metadata": {},
   "outputs": [
    {
     "ename": "LoadError",
     "evalue": "LoadError: UndefVarError: @vlplot not defined\nin expression starting at /Users/james/Coding/machine-learning-julia/pima/pima_Classification.ipynb:2",
     "output_type": "error",
     "traceback": [
      "LoadError: UndefVarError: @vlplot not defined\n",
      "in expression starting at /Users/james/Coding/machine-learning-julia/pima/pima_Classification.ipynb:2\n"
     ]
    }
   ],
   "source": [
    "plot_df |>\n",
    "@vlplot(:bar, \n",
    "        x=\"target:n\", \n",
    "        y=:Freq, \n",
    "        width=800,\n",
    "        height=400,\n",
    "        color={\"target:o\", scale={range=[\"#675193\", \"#ca8861\"]}})"
   ]
  },
  {
   "cell_type": "markdown",
   "metadata": {},
   "source": [
    "## Split the data frame"
   ]
  },
  {
   "cell_type": "code",
   "execution_count": 38,
   "metadata": {},
   "outputs": [],
   "source": [
    "X = df[:, feature_list[1:end-1]];\n",
    "y = df[:, target];"
   ]
  },
  {
   "cell_type": "markdown",
   "metadata": {},
   "source": [
    "## Show the available models in `MLJ`"
   ]
  },
  {
   "cell_type": "code",
   "execution_count": 39,
   "metadata": {},
   "outputs": [
    {
     "data": {
      "text/plain": [
       "6-element Vector{NamedTuple{(:name, :package_name, :is_supervised, :abstract_type, :deep_properties, :docstring, :fit_data_scitype, :human_name, :hyperparameter_ranges, :hyperparameter_types, :hyperparameters, :implemented_methods, :inverse_transform_scitype, :is_pure_julia, :is_wrapper, :iteration_parameter, :load_path, :package_license, :package_url, :package_uuid, :predict_scitype, :prediction_type, :reporting_operations, :reports_feature_importances, :supports_class_weights, :supports_online, :supports_training_losses, :supports_weights, :transform_scitype, :input_scitype, :target_scitype, :output_scitype)}}:\n",
       " (name = EvoTreeCount, package_name = EvoTrees, ... )\n",
       " (name = LinearCountRegressor, package_name = GLM, ... )\n",
       " (name = MultitargetNeuralNetworkRegressor, package_name = BetaML, ... )\n",
       " (name = NeuralNetworkClassifier, package_name = BetaML, ... )\n",
       " (name = NeuralNetworkRegressor, package_name = BetaML, ... )\n",
       " (name = XGBoostCount, package_name = XGBoost, ... )"
      ]
     },
     "metadata": {},
     "output_type": "display_data"
    }
   ],
   "source": [
    "models(matching(X,y))"
   ]
  },
  {
   "cell_type": "code",
   "execution_count": null,
   "metadata": {},
   "outputs": [],
   "source": []
  }
 ],
 "metadata": {
  "kernelspec": {
   "display_name": "Julia 1.8.2",
   "language": "julia",
   "name": "julia-1.8"
  },
  "language_info": {
   "file_extension": ".jl",
   "mimetype": "application/julia",
   "name": "julia",
   "version": "1.8.2"
  },
  "orig_nbformat": 4,
  "vscode": {
   "interpreter": {
    "hash": "be5e71e9b56afcf1599e025c35d70929d0cebc945eed20c394454b6fe069f7b7"
   }
  }
 },
 "nbformat": 4,
 "nbformat_minor": 2
}
