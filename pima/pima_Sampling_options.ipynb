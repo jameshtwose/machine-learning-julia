{
 "cells": [
  {
   "cell_type": "markdown",
   "metadata": {},
   "source": [
    "## PIMA diabetes looking into different sampling options"
   ]
  },
  {
   "cell_type": "code",
   "execution_count": 1,
   "metadata": {},
   "outputs": [
    {
     "name": "stderr",
     "output_type": "stream",
     "text": [
      "\u001b[32m\u001b[1m  Activating\u001b[22m\u001b[39m project at `~/Coding/machine-learning-julia`\n"
     ]
    }
   ],
   "source": [
    "using Pkg\n",
    "Pkg.activate(\"../\")"
   ]
  },
  {
   "cell_type": "code",
   "execution_count": 2,
   "metadata": {},
   "outputs": [
    {
     "name": "stdout",
     "output_type": "stream",
     "text": [
      "\u001b[32m\u001b[1mStatus\u001b[22m\u001b[39m `~/Coding/machine-learning-julia/Project.toml`\n"
     ]
    },
    {
     "name": "stdout",
     "output_type": "stream",
     "text": [
      " \u001b[90m [336ed68f] \u001b[39mCSV v0.10.4\n",
      " \u001b[90m [8f4d0f93] \u001b[39mConda v1.7.0\n",
      " \u001b[90m [a93c6f00] \u001b[39mDataFrames v1.4.1\n",
      " \u001b[90m [da1fdf0e] \u001b[39mFreqTables v0.4.5\n",
      "\u001b[33m⌅\u001b[39m\u001b[90m [cd3eb016] \u001b[39mHTTP v0.9.17\n",
      " \u001b[90m [7073ff75] \u001b[39mIJulia v1.23.3\n",
      " \u001b[90m [add582a8] \u001b[39mMLJ v0.18.5\n",
      " \u001b[90m [f0f68f2c] \u001b[39mPlotlyJS v0.18.10\n",
      " \u001b[90m [2913bbd2] \u001b[39mStatsBase v0.33.21\n",
      " \u001b[90m [f3b207a7] \u001b[39mStatsPlots v0.15.4\n",
      " \u001b[90m [112f6efa] \u001b[39mVegaLite v2.6.0\n",
      "\u001b[36m\u001b[1mInfo\u001b[22m\u001b[39m Packages marked with \u001b[33m⌅\u001b[39m have new versions available but compatibility constraints restrict them from upgrading. To see why use `status --outdated`\n"
     ]
    }
   ],
   "source": [
    "using CSV\n",
    "using DataFrames\n",
    "using HTTP\n",
    "# using PlotlyJS\n",
    "using VegaLite\n",
    "using FreqTables\n",
    "using StatsBase\n",
    "using Statistics\n",
    "# using StatsPlots\n",
    "Pkg.status()"
   ]
  },
  {
   "cell_type": "code",
   "execution_count": 4,
   "metadata": {},
   "outputs": [
    {
     "data": {
      "text/plain": [
       "120"
      ]
     },
     "metadata": {},
     "output_type": "display_data"
    }
   ],
   "source": [
    "ENV[\"COLUMNS\"]=120"
   ]
  },
  {
   "cell_type": "code",
   "execution_count": 5,
   "metadata": {},
   "outputs": [
    {
     "data": {
      "text/plain": [
       "1:768"
      ]
     },
     "metadata": {},
     "output_type": "display_data"
    }
   ],
   "source": [
    "url = \"https://raw.githubusercontent.com/jameshtwose/example_deliverables/main/classification_examples/pima_diabetes/diabetes.csv\"\n",
    "df = DataFrame(CSV.File(HTTP.get(url).body));\n",
    "df.index = range(1, size(df)[1])"
   ]
  },
  {
   "cell_type": "code",
   "execution_count": 6,
   "metadata": {},
   "outputs": [],
   "source": [
    "df[!, 1: end-2] = mapcols!(ByRow(Float64), df[!, 1: end-2]);"
   ]
  },
  {
   "cell_type": "code",
   "execution_count": 7,
   "metadata": {},
   "outputs": [
    {
     "data": {
      "text/html": [
       "<div><div style = \"float: left;\"><span>3×10 DataFrame</span></div><div style = \"clear: both;\"></div></div><div class = \"data-frame\" style = \"overflow-x: scroll;\"><table class = \"data-frame\" style = \"margin-bottom: 6px;\"><thead><tr class = \"header\"><th class = \"rowNumber\" style = \"font-weight: bold; text-align: right;\">Row</th><th style = \"text-align: left;\">Pregnancies</th><th style = \"text-align: left;\">Glucose</th><th style = \"text-align: left;\">BloodPressure</th><th style = \"text-align: left;\">SkinThickness</th><th style = \"text-align: left;\">Insulin</th><th style = \"text-align: left;\">BMI</th><th style = \"text-align: left;\">DiabetesPedigreeFunction</th><th style = \"text-align: left;\">Age</th><th style = \"text-align: left;\">Outcome</th><th style = \"text-align: left;\">index</th></tr><tr class = \"subheader headerLastRow\"><th class = \"rowNumber\" style = \"font-weight: bold; text-align: right;\"></th><th title = \"Float64\" style = \"text-align: left;\">Float64</th><th title = \"Float64\" style = \"text-align: left;\">Float64</th><th title = \"Float64\" style = \"text-align: left;\">Float64</th><th title = \"Float64\" style = \"text-align: left;\">Float64</th><th title = \"Float64\" style = \"text-align: left;\">Float64</th><th title = \"Float64\" style = \"text-align: left;\">Float64</th><th title = \"Float64\" style = \"text-align: left;\">Float64</th><th title = \"Float64\" style = \"text-align: left;\">Float64</th><th title = \"Int64\" style = \"text-align: left;\">Int64</th><th title = \"Int64\" style = \"text-align: left;\">Int64</th></tr></thead><tbody><tr><td class = \"rowNumber\" style = \"font-weight: bold; text-align: right;\">1</td><td style = \"text-align: right;\">6.0</td><td style = \"text-align: right;\">148.0</td><td style = \"text-align: right;\">72.0</td><td style = \"text-align: right;\">35.0</td><td style = \"text-align: right;\">0.0</td><td style = \"text-align: right;\">33.6</td><td style = \"text-align: right;\">0.627</td><td style = \"text-align: right;\">50.0</td><td style = \"text-align: right;\">1</td><td style = \"text-align: right;\">1</td></tr><tr><td class = \"rowNumber\" style = \"font-weight: bold; text-align: right;\">2</td><td style = \"text-align: right;\">1.0</td><td style = \"text-align: right;\">85.0</td><td style = \"text-align: right;\">66.0</td><td style = \"text-align: right;\">29.0</td><td style = \"text-align: right;\">0.0</td><td style = \"text-align: right;\">26.6</td><td style = \"text-align: right;\">0.351</td><td style = \"text-align: right;\">31.0</td><td style = \"text-align: right;\">0</td><td style = \"text-align: right;\">2</td></tr><tr><td class = \"rowNumber\" style = \"font-weight: bold; text-align: right;\">3</td><td style = \"text-align: right;\">8.0</td><td style = \"text-align: right;\">183.0</td><td style = \"text-align: right;\">64.0</td><td style = \"text-align: right;\">0.0</td><td style = \"text-align: right;\">0.0</td><td style = \"text-align: right;\">23.3</td><td style = \"text-align: right;\">0.672</td><td style = \"text-align: right;\">32.0</td><td style = \"text-align: right;\">1</td><td style = \"text-align: right;\">3</td></tr></tbody></table></div>"
      ],
      "text/latex": [
       "\\begin{tabular}{r|cccccccccc}\n",
       "\t& Pregnancies & Glucose & BloodPressure & SkinThickness & Insulin & BMI & DiabetesPedigreeFunction & Age & Outcome & index\\\\\n",
       "\t\\hline\n",
       "\t& Float64 & Float64 & Float64 & Float64 & Float64 & Float64 & Float64 & Float64 & Int64 & Int64\\\\\n",
       "\t\\hline\n",
       "\t1 & 6.0 & 148.0 & 72.0 & 35.0 & 0.0 & 33.6 & 0.627 & 50.0 & 1 & 1 \\\\\n",
       "\t2 & 1.0 & 85.0 & 66.0 & 29.0 & 0.0 & 26.6 & 0.351 & 31.0 & 0 & 2 \\\\\n",
       "\t3 & 8.0 & 183.0 & 64.0 & 0.0 & 0.0 & 23.3 & 0.672 & 32.0 & 1 & 3 \\\\\n",
       "\\end{tabular}\n"
      ],
      "text/plain": [
       "\u001b[1m3×10 DataFrame\u001b[0m\n",
       "\u001b[1m Row \u001b[0m│\u001b[1m Pregnancies \u001b[0m\u001b[1m Glucose \u001b[0m\u001b[1m BloodPressure \u001b[0m\u001b[1m SkinThickness \u001b[0m\u001b[1m Insulin \u001b[0m\u001b[1m BMI     \u001b[0m\u001b[1m DiabetesPedigreeFunction \u001b[0m\u001b[1m Age     \u001b[0m\u001b[1m Outcom\u001b[0m ⋯\n",
       "     │\u001b[90m Float64     \u001b[0m\u001b[90m Float64 \u001b[0m\u001b[90m Float64       \u001b[0m\u001b[90m Float64       \u001b[0m\u001b[90m Float64 \u001b[0m\u001b[90m Float64 \u001b[0m\u001b[90m Float64                  \u001b[0m\u001b[90m Float64 \u001b[0m\u001b[90m Int64 \u001b[0m ⋯\n",
       "─────┼──────────────────────────────────────────────────────────────────────────────────────────────────────────────────\n",
       "   1 │         6.0    148.0           72.0           35.0      0.0     33.6                     0.627     50.0         ⋯\n",
       "   2 │         1.0     85.0           66.0           29.0      0.0     26.6                     0.351     31.0\n",
       "   3 │         8.0    183.0           64.0            0.0      0.0     23.3                     0.672     32.0\n",
       "\u001b[36m                                                                                                       2 columns omitted\u001b[0m"
      ]
     },
     "metadata": {},
     "output_type": "display_data"
    }
   ],
   "source": [
    "first(df, 3)"
   ]
  },
  {
   "cell_type": "code",
   "execution_count": 8,
   "metadata": {},
   "outputs": [
    {
     "data": {
      "text/plain": [
       "(768, 10)"
      ]
     },
     "metadata": {},
     "output_type": "display_data"
    }
   ],
   "source": [
    "size(df)"
   ]
  },
  {
   "cell_type": "markdown",
   "metadata": {},
   "source": [
    "### Plot the amount of rows in each side of the target\n",
    "#### Looks like the target is imbalanced so this needs to be taken into account"
   ]
  },
  {
   "cell_type": "markdown",
   "metadata": {},
   "source": [
    "#### Also 0 values in everything apart from the target and `Pregnancies` are replaced by NaN values"
   ]
  },
  {
   "cell_type": "code",
   "execution_count": 9,
   "metadata": {},
   "outputs": [],
   "source": [
    "target=\"Outcome\";"
   ]
  },
  {
   "cell_type": "code",
   "execution_count": 10,
   "metadata": {},
   "outputs": [
    {
     "data": {
      "text/plain": [
       "9-element Vector{String}:\n",
       " \"Pregnancies\"\n",
       " \"Glucose\"\n",
       " \"BloodPressure\"\n",
       " \"SkinThickness\"\n",
       " \"Insulin\"\n",
       " \"BMI\"\n",
       " \"DiabetesPedigreeFunction\"\n",
       " \"Age\"\n",
       " \"index\""
      ]
     },
     "metadata": {},
     "output_type": "display_data"
    }
   ],
   "source": [
    "feature_list = names(select(df, Not(target)))"
   ]
  },
  {
   "cell_type": "code",
   "execution_count": 19,
   "metadata": {},
   "outputs": [],
   "source": [
    "tmp_df = select(df, Not([target, \"index\", \"Pregnancies\"]));\n",
    "tmp_df = DataFrame(replace!(Matrix(tmp_df), 0=>NaN), names(tmp_df));\n",
    "df[!, names(tmp_df)] = tmp_df;"
   ]
  },
  {
   "cell_type": "code",
   "execution_count": 20,
   "metadata": {},
   "outputs": [
    {
     "data": {
      "text/html": [
       "<div><div style = \"float: left;\"><span>10×15 DataFrame</span></div><div style = \"clear: both;\"></div></div><div class = \"data-frame\" style = \"overflow-x: scroll;\"><table class = \"data-frame\" style = \"margin-bottom: 6px;\"><thead><tr class = \"header\"><th class = \"rowNumber\" style = \"font-weight: bold; text-align: right;\">Row</th><th style = \"text-align: left;\">variable</th><th style = \"text-align: left;\">mean</th><th style = \"text-align: left;\">std</th><th style = \"text-align: left;\">min</th><th style = \"text-align: left;\">q25</th><th style = \"text-align: left;\">median</th><th style = \"text-align: left;\">q75</th><th style = \"text-align: left;\">max</th><th style = \"text-align: left;\">nunique</th><th style = \"text-align: left;\">nuniqueall</th><th style = \"text-align: left;\">nmissing</th><th style = \"text-align: left;\">nnonmissing</th><th style = \"text-align: left;\">first</th><th style = \"text-align: left;\">last</th><th style = \"text-align: left;\">eltype</th></tr><tr class = \"subheader headerLastRow\"><th class = \"rowNumber\" style = \"font-weight: bold; text-align: right;\"></th><th title = \"Symbol\" style = \"text-align: left;\">Symbol</th><th title = \"Float64\" style = \"text-align: left;\">Float64</th><th title = \"Float64\" style = \"text-align: left;\">Float64</th><th title = \"Real\" style = \"text-align: left;\">Real</th><th title = \"Union{Nothing, Float64}\" style = \"text-align: left;\">Union…</th><th title = \"Union{Nothing, Float64}\" style = \"text-align: left;\">Union…</th><th title = \"Union{Nothing, Float64}\" style = \"text-align: left;\">Union…</th><th title = \"Real\" style = \"text-align: left;\">Real</th><th title = \"Nothing\" style = \"text-align: left;\">Nothing</th><th title = \"Int64\" style = \"text-align: left;\">Int64</th><th title = \"Int64\" style = \"text-align: left;\">Int64</th><th title = \"Int64\" style = \"text-align: left;\">Int64</th><th title = \"Real\" style = \"text-align: left;\">Real</th><th title = \"Real\" style = \"text-align: left;\">Real</th><th title = \"DataType\" style = \"text-align: left;\">DataType</th></tr></thead><tbody><tr><td class = \"rowNumber\" style = \"font-weight: bold; text-align: right;\">1</td><td style = \"text-align: left;\">Pregnancies</td><td style = \"text-align: right;\">3.84505</td><td style = \"text-align: right;\">3.36958</td><td style = \"text-align: right;\">0.0</td><td style = \"text-align: left;\">1.0</td><td style = \"text-align: left;\">3.0</td><td style = \"text-align: left;\">6.0</td><td style = \"text-align: right;\">17.0</td><td style = \"font-style: italic; text-align: left;\"></td><td style = \"text-align: right;\">17</td><td style = \"text-align: right;\">0</td><td style = \"text-align: right;\">768</td><td style = \"text-align: right;\">6.0</td><td style = \"text-align: right;\">1.0</td><td style = \"text-align: left;\">Float64</td></tr><tr><td class = \"rowNumber\" style = \"font-weight: bold; text-align: right;\">2</td><td style = \"text-align: left;\">Glucose</td><td style = \"text-align: right;\">NaN</td><td style = \"text-align: right;\">NaN</td><td style = \"text-align: right;\">NaN</td><td style = \"font-style: italic; text-align: left;\"></td><td style = \"font-style: italic; text-align: left;\"></td><td style = \"font-style: italic; text-align: left;\"></td><td style = \"text-align: right;\">NaN</td><td style = \"font-style: italic; text-align: left;\"></td><td style = \"text-align: right;\">136</td><td style = \"text-align: right;\">0</td><td style = \"text-align: right;\">768</td><td style = \"text-align: right;\">148.0</td><td style = \"text-align: right;\">93.0</td><td style = \"text-align: left;\">Float64</td></tr><tr><td class = \"rowNumber\" style = \"font-weight: bold; text-align: right;\">3</td><td style = \"text-align: left;\">BloodPressure</td><td style = \"text-align: right;\">NaN</td><td style = \"text-align: right;\">NaN</td><td style = \"text-align: right;\">NaN</td><td style = \"font-style: italic; text-align: left;\"></td><td style = \"font-style: italic; text-align: left;\"></td><td style = \"font-style: italic; text-align: left;\"></td><td style = \"text-align: right;\">NaN</td><td style = \"font-style: italic; text-align: left;\"></td><td style = \"text-align: right;\">47</td><td style = \"text-align: right;\">0</td><td style = \"text-align: right;\">768</td><td style = \"text-align: right;\">72.0</td><td style = \"text-align: right;\">70.0</td><td style = \"text-align: left;\">Float64</td></tr><tr><td class = \"rowNumber\" style = \"font-weight: bold; text-align: right;\">4</td><td style = \"text-align: left;\">SkinThickness</td><td style = \"text-align: right;\">NaN</td><td style = \"text-align: right;\">NaN</td><td style = \"text-align: right;\">NaN</td><td style = \"font-style: italic; text-align: left;\"></td><td style = \"font-style: italic; text-align: left;\"></td><td style = \"font-style: italic; text-align: left;\"></td><td style = \"text-align: right;\">NaN</td><td style = \"font-style: italic; text-align: left;\"></td><td style = \"text-align: right;\">51</td><td style = \"text-align: right;\">0</td><td style = \"text-align: right;\">768</td><td style = \"text-align: right;\">35.0</td><td style = \"text-align: right;\">31.0</td><td style = \"text-align: left;\">Float64</td></tr><tr><td class = \"rowNumber\" style = \"font-weight: bold; text-align: right;\">5</td><td style = \"text-align: left;\">Insulin</td><td style = \"text-align: right;\">NaN</td><td style = \"text-align: right;\">NaN</td><td style = \"text-align: right;\">NaN</td><td style = \"font-style: italic; text-align: left;\"></td><td style = \"font-style: italic; text-align: left;\"></td><td style = \"font-style: italic; text-align: left;\"></td><td style = \"text-align: right;\">NaN</td><td style = \"font-style: italic; text-align: left;\"></td><td style = \"text-align: right;\">186</td><td style = \"text-align: right;\">0</td><td style = \"text-align: right;\">768</td><td style = \"text-align: right;\">NaN</td><td style = \"text-align: right;\">NaN</td><td style = \"text-align: left;\">Float64</td></tr><tr><td class = \"rowNumber\" style = \"font-weight: bold; text-align: right;\">6</td><td style = \"text-align: left;\">BMI</td><td style = \"text-align: right;\">NaN</td><td style = \"text-align: right;\">NaN</td><td style = \"text-align: right;\">NaN</td><td style = \"font-style: italic; text-align: left;\"></td><td style = \"font-style: italic; text-align: left;\"></td><td style = \"font-style: italic; text-align: left;\"></td><td style = \"text-align: right;\">NaN</td><td style = \"font-style: italic; text-align: left;\"></td><td style = \"text-align: right;\">248</td><td style = \"text-align: right;\">0</td><td style = \"text-align: right;\">768</td><td style = \"text-align: right;\">33.6</td><td style = \"text-align: right;\">30.4</td><td style = \"text-align: left;\">Float64</td></tr><tr><td class = \"rowNumber\" style = \"font-weight: bold; text-align: right;\">7</td><td style = \"text-align: left;\">DiabetesPedigreeFunction</td><td style = \"text-align: right;\">0.471876</td><td style = \"text-align: right;\">0.331329</td><td style = \"text-align: right;\">0.078</td><td style = \"text-align: left;\">0.24375</td><td style = \"text-align: left;\">0.3725</td><td style = \"text-align: left;\">0.62625</td><td style = \"text-align: right;\">2.42</td><td style = \"font-style: italic; text-align: left;\"></td><td style = \"text-align: right;\">517</td><td style = \"text-align: right;\">0</td><td style = \"text-align: right;\">768</td><td style = \"text-align: right;\">0.627</td><td style = \"text-align: right;\">0.315</td><td style = \"text-align: left;\">Float64</td></tr><tr><td class = \"rowNumber\" style = \"font-weight: bold; text-align: right;\">8</td><td style = \"text-align: left;\">Age</td><td style = \"text-align: right;\">33.2409</td><td style = \"text-align: right;\">11.7602</td><td style = \"text-align: right;\">21.0</td><td style = \"text-align: left;\">24.0</td><td style = \"text-align: left;\">29.0</td><td style = \"text-align: left;\">41.0</td><td style = \"text-align: right;\">81.0</td><td style = \"font-style: italic; text-align: left;\"></td><td style = \"text-align: right;\">52</td><td style = \"text-align: right;\">0</td><td style = \"text-align: right;\">768</td><td style = \"text-align: right;\">50.0</td><td style = \"text-align: right;\">23.0</td><td style = \"text-align: left;\">Float64</td></tr><tr><td class = \"rowNumber\" style = \"font-weight: bold; text-align: right;\">9</td><td style = \"text-align: left;\">Outcome</td><td style = \"text-align: right;\">0.348958</td><td style = \"text-align: right;\">0.476951</td><td style = \"text-align: right;\">0</td><td style = \"text-align: left;\">0.0</td><td style = \"text-align: left;\">0.0</td><td style = \"text-align: left;\">1.0</td><td style = \"text-align: right;\">1</td><td style = \"font-style: italic; text-align: left;\"></td><td style = \"text-align: right;\">2</td><td style = \"text-align: right;\">0</td><td style = \"text-align: right;\">768</td><td style = \"text-align: right;\">1</td><td style = \"text-align: right;\">0</td><td style = \"text-align: left;\">Int64</td></tr><tr><td class = \"rowNumber\" style = \"font-weight: bold; text-align: right;\">10</td><td style = \"text-align: left;\">index</td><td style = \"text-align: right;\">384.5</td><td style = \"text-align: right;\">221.847</td><td style = \"text-align: right;\">1</td><td style = \"text-align: left;\">192.75</td><td style = \"text-align: left;\">384.5</td><td style = \"text-align: left;\">576.25</td><td style = \"text-align: right;\">768</td><td style = \"font-style: italic; text-align: left;\"></td><td style = \"text-align: right;\">768</td><td style = \"text-align: right;\">0</td><td style = \"text-align: right;\">768</td><td style = \"text-align: right;\">1</td><td style = \"text-align: right;\">768</td><td style = \"text-align: left;\">Int64</td></tr></tbody></table></div>"
      ],
      "text/latex": [
       "\\begin{tabular}{r|ccccccccccccc}\n",
       "\t& variable & mean & std & min & q25 & median & q75 & max & nunique & nuniqueall & nmissing & nnonmissing & \\\\\n",
       "\t\\hline\n",
       "\t& Symbol & Float64 & Float64 & Real & Union… & Union… & Union… & Real & Nothing & Int64 & Int64 & Int64 & \\\\\n",
       "\t\\hline\n",
       "\t1 & Pregnancies & 3.84505 & 3.36958 & 0.0 & 1.0 & 3.0 & 6.0 & 17.0 &  & 17 & 0 & 768 & $\\dots$ \\\\\n",
       "\t2 & Glucose & NaN & NaN & NaN &  &  &  & NaN &  & 136 & 0 & 768 & $\\dots$ \\\\\n",
       "\t3 & BloodPressure & NaN & NaN & NaN &  &  &  & NaN &  & 47 & 0 & 768 & $\\dots$ \\\\\n",
       "\t4 & SkinThickness & NaN & NaN & NaN &  &  &  & NaN &  & 51 & 0 & 768 & $\\dots$ \\\\\n",
       "\t5 & Insulin & NaN & NaN & NaN &  &  &  & NaN &  & 186 & 0 & 768 & $\\dots$ \\\\\n",
       "\t6 & BMI & NaN & NaN & NaN &  &  &  & NaN &  & 248 & 0 & 768 & $\\dots$ \\\\\n",
       "\t7 & DiabetesPedigreeFunction & 0.471876 & 0.331329 & 0.078 & 0.24375 & 0.3725 & 0.62625 & 2.42 &  & 517 & 0 & 768 & $\\dots$ \\\\\n",
       "\t8 & Age & 33.2409 & 11.7602 & 21.0 & 24.0 & 29.0 & 41.0 & 81.0 &  & 52 & 0 & 768 & $\\dots$ \\\\\n",
       "\t9 & Outcome & 0.348958 & 0.476951 & 0 & 0.0 & 0.0 & 1.0 & 1 &  & 2 & 0 & 768 & $\\dots$ \\\\\n",
       "\t10 & index & 384.5 & 221.847 & 1 & 192.75 & 384.5 & 576.25 & 768 &  & 768 & 0 & 768 & $\\dots$ \\\\\n",
       "\\end{tabular}\n"
      ],
      "text/plain": [
       "\u001b[1m10×15 DataFrame\u001b[0m\n",
       "\u001b[1m Row \u001b[0m│\u001b[1m variable                 \u001b[0m\u001b[1m mean       \u001b[0m\u001b[1m std        \u001b[0m\u001b[1m min     \u001b[0m\u001b[1m q25     \u001b[0m\u001b[1m median \u001b[0m\u001b[1m q75     \u001b[0m\u001b[1m max    \u001b[0m\u001b[1m nunique \u001b[0m\u001b[1m nuniqueal\u001b[0m ⋯\n",
       "     │\u001b[90m Symbol                   \u001b[0m\u001b[90m Float64    \u001b[0m\u001b[90m Float64    \u001b[0m\u001b[90m Real    \u001b[0m\u001b[90m Union…  \u001b[0m\u001b[90m Union… \u001b[0m\u001b[90m Union…  \u001b[0m\u001b[90m Real   \u001b[0m\u001b[90m Nothing \u001b[0m\u001b[90m Int64    \u001b[0m ⋯\n",
       "─────┼──────────────────────────────────────────────────────────────────────────────────────────────────────────────────\n",
       "   1 │ Pregnancies                 3.84505     3.36958     0.0    1.0      3.0     6.0       17.0  \u001b[90m         \u001b[0m         1 ⋯\n",
       "   2 │ Glucose                   NaN         NaN         NaN     \u001b[90m         \u001b[0m\u001b[90m        \u001b[0m\u001b[90m         \u001b[0m NaN    \u001b[90m         \u001b[0m        13\n",
       "   3 │ BloodPressure             NaN         NaN         NaN     \u001b[90m         \u001b[0m\u001b[90m        \u001b[0m\u001b[90m         \u001b[0m NaN    \u001b[90m         \u001b[0m         4\n",
       "   4 │ SkinThickness             NaN         NaN         NaN     \u001b[90m         \u001b[0m\u001b[90m        \u001b[0m\u001b[90m         \u001b[0m NaN    \u001b[90m         \u001b[0m         5\n",
       "   5 │ Insulin                   NaN         NaN         NaN     \u001b[90m         \u001b[0m\u001b[90m        \u001b[0m\u001b[90m         \u001b[0m NaN    \u001b[90m         \u001b[0m        18 ⋯\n",
       "   6 │ BMI                       NaN         NaN         NaN     \u001b[90m         \u001b[0m\u001b[90m        \u001b[0m\u001b[90m         \u001b[0m NaN    \u001b[90m         \u001b[0m        24\n",
       "   7 │ DiabetesPedigreeFunction    0.471876    0.331329    0.078  0.24375  0.3725  0.62625    2.42 \u001b[90m         \u001b[0m        51\n",
       "   8 │ Age                        33.2409     11.7602     21.0    24.0     29.0    41.0      81.0  \u001b[90m         \u001b[0m         5\n",
       "   9 │ Outcome                     0.348958    0.476951    0      0.0      0.0     1.0        1    \u001b[90m         \u001b[0m           ⋯\n",
       "  10 │ index                     384.5       221.847       1      192.75   384.5   576.25   768    \u001b[90m         \u001b[0m        76\n",
       "\u001b[36m                                                                                                       6 columns omitted\u001b[0m"
      ]
     },
     "metadata": {},
     "output_type": "display_data"
    }
   ],
   "source": [
    "describe(df, :all)"
   ]
  },
  {
   "cell_type": "code",
   "execution_count": 24,
   "metadata": {},
   "outputs": [
    {
     "data": {
      "text/html": [
       "<div><div style = \"float: left;\"><span>5×10 DataFrame</span></div><div style = \"clear: both;\"></div></div><div class = \"data-frame\" style = \"overflow-x: scroll;\"><table class = \"data-frame\" style = \"margin-bottom: 6px;\"><thead><tr class = \"header\"><th class = \"rowNumber\" style = \"font-weight: bold; text-align: right;\">Row</th><th style = \"text-align: left;\">Pregnancies</th><th style = \"text-align: left;\">Glucose</th><th style = \"text-align: left;\">BloodPressure</th><th style = \"text-align: left;\">SkinThickness</th><th style = \"text-align: left;\">Insulin</th><th style = \"text-align: left;\">BMI</th><th style = \"text-align: left;\">DiabetesPedigreeFunction</th><th style = \"text-align: left;\">Age</th><th style = \"text-align: left;\">Outcome</th><th style = \"text-align: left;\">index</th></tr><tr class = \"subheader headerLastRow\"><th class = \"rowNumber\" style = \"font-weight: bold; text-align: right;\"></th><th title = \"Float64\" style = \"text-align: left;\">Float64</th><th title = \"Float64\" style = \"text-align: left;\">Float64</th><th title = \"Float64\" style = \"text-align: left;\">Float64</th><th title = \"Float64\" style = \"text-align: left;\">Float64</th><th title = \"Float64\" style = \"text-align: left;\">Float64</th><th title = \"Float64\" style = \"text-align: left;\">Float64</th><th title = \"Float64\" style = \"text-align: left;\">Float64</th><th title = \"Float64\" style = \"text-align: left;\">Float64</th><th title = \"Int64\" style = \"text-align: left;\">Int64</th><th title = \"Int64\" style = \"text-align: left;\">Int64</th></tr></thead><tbody><tr><td class = \"rowNumber\" style = \"font-weight: bold; text-align: right;\">1</td><td style = \"text-align: right;\">6.0</td><td style = \"text-align: right;\">148.0</td><td style = \"text-align: right;\">72.0</td><td style = \"text-align: right;\">35.0</td><td style = \"text-align: right;\">NaN</td><td style = \"text-align: right;\">33.6</td><td style = \"text-align: right;\">0.627</td><td style = \"text-align: right;\">50.0</td><td style = \"text-align: right;\">1</td><td style = \"text-align: right;\">1</td></tr><tr><td class = \"rowNumber\" style = \"font-weight: bold; text-align: right;\">2</td><td style = \"text-align: right;\">1.0</td><td style = \"text-align: right;\">85.0</td><td style = \"text-align: right;\">66.0</td><td style = \"text-align: right;\">29.0</td><td style = \"text-align: right;\">NaN</td><td style = \"text-align: right;\">26.6</td><td style = \"text-align: right;\">0.351</td><td style = \"text-align: right;\">31.0</td><td style = \"text-align: right;\">0</td><td style = \"text-align: right;\">2</td></tr><tr><td class = \"rowNumber\" style = \"font-weight: bold; text-align: right;\">3</td><td style = \"text-align: right;\">8.0</td><td style = \"text-align: right;\">183.0</td><td style = \"text-align: right;\">64.0</td><td style = \"text-align: right;\">NaN</td><td style = \"text-align: right;\">NaN</td><td style = \"text-align: right;\">23.3</td><td style = \"text-align: right;\">0.672</td><td style = \"text-align: right;\">32.0</td><td style = \"text-align: right;\">1</td><td style = \"text-align: right;\">3</td></tr><tr><td class = \"rowNumber\" style = \"font-weight: bold; text-align: right;\">4</td><td style = \"text-align: right;\">1.0</td><td style = \"text-align: right;\">89.0</td><td style = \"text-align: right;\">66.0</td><td style = \"text-align: right;\">23.0</td><td style = \"text-align: right;\">94.0</td><td style = \"text-align: right;\">28.1</td><td style = \"text-align: right;\">0.167</td><td style = \"text-align: right;\">21.0</td><td style = \"text-align: right;\">0</td><td style = \"text-align: right;\">4</td></tr><tr><td class = \"rowNumber\" style = \"font-weight: bold; text-align: right;\">5</td><td style = \"text-align: right;\">0.0</td><td style = \"text-align: right;\">137.0</td><td style = \"text-align: right;\">40.0</td><td style = \"text-align: right;\">35.0</td><td style = \"text-align: right;\">168.0</td><td style = \"text-align: right;\">43.1</td><td style = \"text-align: right;\">2.288</td><td style = \"text-align: right;\">33.0</td><td style = \"text-align: right;\">1</td><td style = \"text-align: right;\">5</td></tr></tbody></table></div>"
      ],
      "text/latex": [
       "\\begin{tabular}{r|cccccccccc}\n",
       "\t& Pregnancies & Glucose & BloodPressure & SkinThickness & Insulin & BMI & DiabetesPedigreeFunction & Age & Outcome & index\\\\\n",
       "\t\\hline\n",
       "\t& Float64 & Float64 & Float64 & Float64 & Float64 & Float64 & Float64 & Float64 & Int64 & Int64\\\\\n",
       "\t\\hline\n",
       "\t1 & 6.0 & 148.0 & 72.0 & 35.0 & NaN & 33.6 & 0.627 & 50.0 & 1 & 1 \\\\\n",
       "\t2 & 1.0 & 85.0 & 66.0 & 29.0 & NaN & 26.6 & 0.351 & 31.0 & 0 & 2 \\\\\n",
       "\t3 & 8.0 & 183.0 & 64.0 & NaN & NaN & 23.3 & 0.672 & 32.0 & 1 & 3 \\\\\n",
       "\t4 & 1.0 & 89.0 & 66.0 & 23.0 & 94.0 & 28.1 & 0.167 & 21.0 & 0 & 4 \\\\\n",
       "\t5 & 0.0 & 137.0 & 40.0 & 35.0 & 168.0 & 43.1 & 2.288 & 33.0 & 1 & 5 \\\\\n",
       "\\end{tabular}\n"
      ],
      "text/plain": [
       "\u001b[1m5×10 DataFrame\u001b[0m\n",
       "\u001b[1m Row \u001b[0m│\u001b[1m Pregnancies \u001b[0m\u001b[1m Glucose \u001b[0m\u001b[1m BloodPressure \u001b[0m\u001b[1m SkinThickness \u001b[0m\u001b[1m Insulin \u001b[0m\u001b[1m BMI     \u001b[0m\u001b[1m DiabetesPedigreeFunction \u001b[0m\u001b[1m Age     \u001b[0m\u001b[1m Outcom\u001b[0m ⋯\n",
       "     │\u001b[90m Float64     \u001b[0m\u001b[90m Float64 \u001b[0m\u001b[90m Float64       \u001b[0m\u001b[90m Float64       \u001b[0m\u001b[90m Float64 \u001b[0m\u001b[90m Float64 \u001b[0m\u001b[90m Float64                  \u001b[0m\u001b[90m Float64 \u001b[0m\u001b[90m Int64 \u001b[0m ⋯\n",
       "─────┼──────────────────────────────────────────────────────────────────────────────────────────────────────────────────\n",
       "   1 │         6.0    148.0           72.0           35.0    NaN       33.6                     0.627     50.0         ⋯\n",
       "   2 │         1.0     85.0           66.0           29.0    NaN       26.6                     0.351     31.0\n",
       "   3 │         8.0    183.0           64.0          NaN      NaN       23.3                     0.672     32.0\n",
       "   4 │         1.0     89.0           66.0           23.0     94.0     28.1                     0.167     21.0\n",
       "   5 │         0.0    137.0           40.0           35.0    168.0     43.1                     2.288     33.0         ⋯\n",
       "\u001b[36m                                                                                                       2 columns omitted\u001b[0m"
      ]
     },
     "metadata": {},
     "output_type": "display_data"
    }
   ],
   "source": [
    "first(df, 5)"
   ]
  },
  {
   "cell_type": "code",
   "execution_count": 21,
   "metadata": {},
   "outputs": [
    {
     "data": {
      "text/html": [
       "<div><div style = \"float: left;\"><span>2×2 DataFrame</span></div><div style = \"clear: both;\"></div></div><div class = \"data-frame\" style = \"overflow-x: scroll;\"><table class = \"data-frame\" style = \"margin-bottom: 6px;\"><thead><tr class = \"header\"><th class = \"rowNumber\" style = \"font-weight: bold; text-align: right;\">Row</th><th style = \"text-align: left;\">target</th><th style = \"text-align: left;\">Freq</th></tr><tr class = \"subheader headerLastRow\"><th class = \"rowNumber\" style = \"font-weight: bold; text-align: right;\"></th><th title = \"Int64\" style = \"text-align: left;\">Int64</th><th title = \"Int64\" style = \"text-align: left;\">Int64</th></tr></thead><tbody><tr><td class = \"rowNumber\" style = \"font-weight: bold; text-align: right;\">1</td><td style = \"text-align: right;\">0</td><td style = \"text-align: right;\">500</td></tr><tr><td class = \"rowNumber\" style = \"font-weight: bold; text-align: right;\">2</td><td style = \"text-align: right;\">1</td><td style = \"text-align: right;\">268</td></tr></tbody></table></div>"
      ],
      "text/latex": [
       "\\begin{tabular}{r|cc}\n",
       "\t& target & Freq\\\\\n",
       "\t\\hline\n",
       "\t& Int64 & Int64\\\\\n",
       "\t\\hline\n",
       "\t1 & 0 & 500 \\\\\n",
       "\t2 & 1 & 268 \\\\\n",
       "\\end{tabular}\n"
      ],
      "text/plain": [
       "\u001b[1m2×2 DataFrame\u001b[0m\n",
       "\u001b[1m Row \u001b[0m│\u001b[1m target \u001b[0m\u001b[1m Freq  \u001b[0m\n",
       "     │\u001b[90m Int64  \u001b[0m\u001b[90m Int64 \u001b[0m\n",
       "─────┼───────────────\n",
       "   1 │      0    500\n",
       "   2 │      1    268"
      ]
     },
     "metadata": {},
     "output_type": "display_data"
    }
   ],
   "source": [
    "ft = freqtable(df, target)\n",
    "plot_df = DataFrame(target = names(ft)[1], Freq = ft)"
   ]
  },
  {
   "cell_type": "code",
   "execution_count": 22,
   "metadata": {},
   "outputs": [
    {
     "data": {
      "application/vnd.vegalite.v4+json": {
       "data": {
        "values": [
         {
          "Freq": 500,
          "target": 0
         },
         {
          "Freq": 268,
          "target": 1
         }
        ]
       },
       "encoding": {
        "color": {
         "field": "target",
         "scale": {
          "range": [
           "#675193",
           "#ca8861"
          ]
         },
         "type": "ordinal"
        },
        "x": {
         "field": "target",
         "type": "nominal"
        },
        "y": {
         "field": "Freq",
         "type": "quantitative"
        }
       },
       "height": 400,
       "mark": "bar",
       "width": 800
      },
      "image/png": "[encoded data removed]",
      "image/svg+xml": "<?xml version=\"1.0\" encoding=\"utf-8\"?>\n<!DOCTYPE svg PUBLIC \"-//W3C//DTD SVG 1.1//EN\" \"http://www.w3.org/Graphics/SVG/1.1/DTD/svg11.dtd\">\n<svg xmlns=\"http://www.w3.org/2000/svg\" xmlns:xlink=\"http://www.w3.org/1999/xlink\" version=\"1.1\" class=\"marks\" width=\"899\" height=\"443\" viewBox=\"0 0 899 443\"><rect width=\"899\" height=\"443\" fill=\"white\"/><g fill=\"none\" stroke-miterlimit=\"10\" transform=\"translate(45,10)\"><g class=\"mark-group role-frame root\" role=\"graphics-object\" aria-roledescription=\"group mark container\"><g transform=\"translate(0,0)\"><path class=\"background\" aria-hidden=\"true\" d=\"M0.5,0.5h800v400h-800Z\" stroke=\"#ddd\"/><g><g class=\"mark-group role-axis\" aria-hidden=\"true\"><g transform=\"translate(0.5,0.5)\"><path class=\"background\" aria-hidden=\"true\" d=\"M0,0h0v0h0Z\" pointer-events=\"none\"/><g><g class=\"mark-rule role-axis-grid\" pointer-events=\"none\"><line transform=\"translate(0,400)\" x2=\"800\" y2=\"0\" stroke=\"#ddd\" stroke-width=\"1\" opacity=\"1\"/><line transform=\"translate(0,360)\" x2=\"800\" y2=\"0\" stroke=\"#ddd\" stroke-width=\"1\" opacity=\"1\"/><line transform=\"translate(0,320)\" x2=\"800\" y2=\"0\" stroke=\"#ddd\" stroke-width=\"1\" opacity=\"1\"/><line transform=\"translate(0,280)\" x2=\"800\" y2=\"0\" stroke=\"#ddd\" stroke-width=\"1\" opacity=\"1\"/><line transform=\"translate(0,240)\" x2=\"800\" y2=\"0\" stroke=\"#ddd\" stroke-width=\"1\" opacity=\"1\"/><line transform=\"translate(0,200)\" x2=\"800\" y2=\"0\" stroke=\"#ddd\" stroke-width=\"1\" opacity=\"1\"/><line transform=\"translate(0,160)\" x2=\"800\" y2=\"0\" stroke=\"#ddd\" stroke-width=\"1\" opacity=\"1\"/><line transform=\"translate(0,120)\" x2=\"800\" y2=\"0\" stroke=\"#ddd\" stroke-width=\"1\" opacity=\"1\"/><line transform=\"translate(0,80)\" x2=\"800\" y2=\"0\" stroke=\"#ddd\" stroke-width=\"1\" opacity=\"1\"/><line transform=\"translate(0,40)\" x2=\"800\" y2=\"0\" stroke=\"#ddd\" stroke-width=\"1\" opacity=\"1\"/><line transform=\"translate(0,0)\" x2=\"800\" y2=\"0\" stroke=\"#ddd\" stroke-width=\"1\" opacity=\"1\"/></g></g><path class=\"foreground\" aria-hidden=\"true\" d=\"\" pointer-events=\"none\" display=\"none\"/></g></g><g class=\"mark-group role-axis\" role=\"graphics-symbol\" aria-roledescription=\"axis\" aria-label=\"X-axis titled 'target' for a discrete scale with 2 values: 0, 1\"><g transform=\"translate(0.5,400.5)\"><path class=\"background\" aria-hidden=\"true\" d=\"M0,0h0v0h0Z\" pointer-events=\"none\"/><g><g class=\"mark-rule role-axis-tick\" pointer-events=\"none\"><line transform=\"translate(200,0)\" x2=\"0\" y2=\"5\" stroke=\"#888\" stroke-width=\"1\" opacity=\"1\"/><line transform=\"translate(600,0)\" x2=\"0\" y2=\"5\" stroke=\"#888\" stroke-width=\"1\" opacity=\"1\"/></g><g class=\"mark-text role-axis-label\" pointer-events=\"none\"><text text-anchor=\"end\" transform=\"translate(199.5,7) rotate(270) translate(0,3)\" font-family=\"sans-serif\" font-size=\"10px\" fill=\"#000\" opacity=\"1\">0</text><text text-anchor=\"end\" transform=\"translate(599.5,7) rotate(270) translate(0,3)\" font-family=\"sans-serif\" font-size=\"10px\" fill=\"#000\" opacity=\"1\">1</text></g><g class=\"mark-rule role-axis-domain\" pointer-events=\"none\"><line transform=\"translate(0,0)\" x2=\"800\" y2=\"0\" stroke=\"#888\" stroke-width=\"1\" opacity=\"1\"/></g><g class=\"mark-text role-axis-title\" pointer-events=\"none\"><text text-anchor=\"middle\" transform=\"translate(400,26)\" font-family=\"sans-serif\" font-size=\"11px\" font-weight=\"bold\" fill=\"#000\" opacity=\"1\">target</text></g></g><path class=\"foreground\" aria-hidden=\"true\" d=\"\" pointer-events=\"none\" display=\"none\"/></g></g><g class=\"mark-group role-axis\" role=\"graphics-symbol\" aria-roledescription=\"axis\" aria-label=\"Y-axis titled 'Freq' for a linear scale with values from 0 to 500\"><g transform=\"translate(0.5,0.5)\"><path class=\"background\" aria-hidden=\"true\" d=\"M0,0h0v0h0Z\" pointer-events=\"none\"/><g><g class=\"mark-rule role-axis-tick\" pointer-events=\"none\"><line transform=\"translate(0,400)\" x2=\"-5\" y2=\"0\" stroke=\"#888\" stroke-width=\"1\" opacity=\"1\"/><line transform=\"translate(0,360)\" x2=\"-5\" y2=\"0\" stroke=\"#888\" stroke-width=\"1\" opacity=\"1\"/><line transform=\"translate(0,320)\" x2=\"-5\" y2=\"0\" stroke=\"#888\" stroke-width=\"1\" opacity=\"1\"/><line transform=\"translate(0,280)\" x2=\"-5\" y2=\"0\" stroke=\"#888\" stroke-width=\"1\" opacity=\"1\"/><line transform=\"translate(0,240)\" x2=\"-5\" y2=\"0\" stroke=\"#888\" stroke-width=\"1\" opacity=\"1\"/><line transform=\"translate(0,200)\" x2=\"-5\" y2=\"0\" stroke=\"#888\" stroke-width=\"1\" opacity=\"1\"/><line transform=\"translate(0,160)\" x2=\"-5\" y2=\"0\" stroke=\"#888\" stroke-width=\"1\" opacity=\"1\"/><line transform=\"translate(0,120)\" x2=\"-5\" y2=\"0\" stroke=\"#888\" stroke-width=\"1\" opacity=\"1\"/><line transform=\"translate(0,80)\" x2=\"-5\" y2=\"0\" stroke=\"#888\" stroke-width=\"1\" opacity=\"1\"/><line transform=\"translate(0,40)\" x2=\"-5\" y2=\"0\" stroke=\"#888\" stroke-width=\"1\" opacity=\"1\"/><line transform=\"translate(0,0)\" x2=\"-5\" y2=\"0\" stroke=\"#888\" stroke-width=\"1\" opacity=\"1\"/></g><g class=\"mark-text role-axis-label\" pointer-events=\"none\"><text text-anchor=\"end\" transform=\"translate(-7,403)\" font-family=\"sans-serif\" font-size=\"10px\" fill=\"#000\" opacity=\"1\">0</text><text text-anchor=\"end\" transform=\"translate(-7,363)\" font-family=\"sans-serif\" font-size=\"10px\" fill=\"#000\" opacity=\"1\">50</text><text text-anchor=\"end\" transform=\"translate(-7,323)\" font-family=\"sans-serif\" font-size=\"10px\" fill=\"#000\" opacity=\"1\">100</text><text text-anchor=\"end\" transform=\"translate(-7,283)\" font-family=\"sans-serif\" font-size=\"10px\" fill=\"#000\" opacity=\"1\">150</text><text text-anchor=\"end\" transform=\"translate(-7,243)\" font-family=\"sans-serif\" font-size=\"10px\" fill=\"#000\" opacity=\"1\">200</text><text text-anchor=\"end\" transform=\"translate(-7,203)\" font-family=\"sans-serif\" font-size=\"10px\" fill=\"#000\" opacity=\"1\">250</text><text text-anchor=\"end\" transform=\"translate(-7,163)\" font-family=\"sans-serif\" font-size=\"10px\" fill=\"#000\" opacity=\"1\">300</text><text text-anchor=\"end\" transform=\"translate(-7,123.00000000000001)\" font-family=\"sans-serif\" font-size=\"10px\" fill=\"#000\" opacity=\"1\">350</text><text text-anchor=\"end\" transform=\"translate(-7,82.99999999999999)\" font-family=\"sans-serif\" font-size=\"10px\" fill=\"#000\" opacity=\"1\">400</text><text text-anchor=\"end\" transform=\"translate(-7,42.99999999999999)\" font-family=\"sans-serif\" font-size=\"10px\" fill=\"#000\" opacity=\"1\">450</text><text text-anchor=\"end\" transform=\"translate(-7,3)\" font-family=\"sans-serif\" font-size=\"10px\" fill=\"#000\" opacity=\"1\">500</text></g><g class=\"mark-rule role-axis-domain\" pointer-events=\"none\"><line transform=\"translate(0,400)\" x2=\"0\" y2=\"-400\" stroke=\"#888\" stroke-width=\"1\" opacity=\"1\"/></g><g class=\"mark-text role-axis-title\" pointer-events=\"none\"><text text-anchor=\"middle\" transform=\"translate(-29,200) rotate(-90) translate(0,-2)\" font-family=\"sans-serif\" font-size=\"11px\" font-weight=\"bold\" fill=\"#000\" opacity=\"1\">Freq</text></g></g><path class=\"foreground\" aria-hidden=\"true\" d=\"\" pointer-events=\"none\" display=\"none\"/></g></g><g class=\"mark-rect role-mark marks\" role=\"graphics-object\" aria-roledescription=\"rect mark container\"><path aria-label=\"target: 0; Freq: 500\" role=\"graphics-symbol\" aria-roledescription=\"bar\" d=\"M20,0h360v400h-360Z\" fill=\"#675193\"/><path aria-label=\"target: 1; Freq: 268\" role=\"graphics-symbol\" aria-roledescription=\"bar\" d=\"M420,185.6h360v214.4h-360Z\" fill=\"#ca8861\"/></g><g class=\"mark-group role-legend\" role=\"graphics-symbol\" aria-roledescription=\"legend\" aria-label=\"Symbol legend titled 'target' for fill color with 2 values: 0, 1\"><g transform=\"translate(818,0)\"><path class=\"background\" aria-hidden=\"true\" d=\"M0,0h31v40h-31Z\" pointer-events=\"none\"/><g><g class=\"mark-group role-legend-entry\"><g transform=\"translate(0,16)\"><path class=\"background\" aria-hidden=\"true\" d=\"M0,0h0v0h0Z\" pointer-events=\"none\"/><g><g class=\"mark-group role-scope\" role=\"graphics-object\" aria-roledescription=\"group mark container\"><g transform=\"translate(0,0)\"><path class=\"background\" aria-hidden=\"true\" d=\"M0,0h22v11h-22Z\" pointer-events=\"none\" opacity=\"1\"/><g><g class=\"mark-symbol role-legend-symbol\" pointer-events=\"none\"><path transform=\"translate(6,6)\" d=\"M-5,-5h10v10h-10Z\" fill=\"#675193\" stroke-width=\"1.5\" opacity=\"1\"/></g><g class=\"mark-text role-legend-label\" pointer-events=\"none\"><text text-anchor=\"start\" transform=\"translate(16,9)\" font-family=\"sans-serif\" font-size=\"10px\" fill=\"#000\" opacity=\"1\">0</text></g></g><path class=\"foreground\" aria-hidden=\"true\" d=\"\" pointer-events=\"none\" display=\"none\"/></g><g transform=\"translate(0,13)\"><path class=\"background\" aria-hidden=\"true\" d=\"M0,0h22v11h-22Z\" pointer-events=\"none\" opacity=\"1\"/><g><g class=\"mark-symbol role-legend-symbol\" pointer-events=\"none\"><path transform=\"translate(6,6)\" d=\"M-5,-5h10v10h-10Z\" fill=\"#ca8861\" stroke-width=\"1.5\" opacity=\"1\"/></g><g class=\"mark-text role-legend-label\" pointer-events=\"none\"><text text-anchor=\"start\" transform=\"translate(16,9)\" font-family=\"sans-serif\" font-size=\"10px\" fill=\"#000\" opacity=\"1\">1</text></g></g><path class=\"foreground\" aria-hidden=\"true\" d=\"\" pointer-events=\"none\" display=\"none\"/></g></g></g><path class=\"foreground\" aria-hidden=\"true\" d=\"\" pointer-events=\"none\" display=\"none\"/></g></g><g class=\"mark-text role-legend-title\" pointer-events=\"none\"><text text-anchor=\"start\" transform=\"translate(0,9)\" font-family=\"sans-serif\" font-size=\"11px\" font-weight=\"bold\" fill=\"#000\" opacity=\"1\">target</text></g></g><path class=\"foreground\" aria-hidden=\"true\" d=\"\" pointer-events=\"none\" display=\"none\"/></g></g></g><path class=\"foreground\" aria-hidden=\"true\" d=\"\" display=\"none\"/></g></g></g></svg>\n",
      "text/plain": [
       "@vlplot(\n",
       "    width=800,\n",
       "    height=400,\n",
       "    mark=\"bar\",\n",
       "    encoding={\n",
       "        x={\n",
       "            field=\"target\",\n",
       "            type=\"nominal\"\n",
       "        },\n",
       "        y={\n",
       "            field=\"Freq\"\n",
       "        },\n",
       "        color={\n",
       "            scale={\n",
       "                range=[\n",
       "                    \"#675193\",\n",
       "                    \"#ca8861\"\n",
       "                ]\n",
       "            },\n",
       "            field=\"target\",\n",
       "            type=\"ordinal\"\n",
       "        }\n",
       "    },\n",
       "    data={\n",
       "        values=...\n",
       "    }\n",
       ")"
      ]
     },
     "metadata": {},
     "output_type": "display_data"
    }
   ],
   "source": [
    "plot_df |>\n",
    "@vlplot(:bar, \n",
    "        x=\"target:n\", \n",
    "        y=:Freq, \n",
    "        width=800,\n",
    "        height=400,\n",
    "        color={\"target:o\", scale={range=[\"#675193\", \"#ca8861\"]}})"
   ]
  },
  {
   "cell_type": "code",
   "execution_count": null,
   "metadata": {},
   "outputs": [],
   "source": []
  }
 ],
 "metadata": {
  "kernelspec": {
   "display_name": "Julia 1.8.2",
   "language": "julia",
   "name": "julia-1.8"
  },
  "language_info": {
   "file_extension": ".jl",
   "mimetype": "application/julia",
   "name": "julia",
   "version": "1.8.2"
  },
  "orig_nbformat": 4,
  "vscode": {
   "interpreter": {
    "hash": "be5e71e9b56afcf1599e025c35d70929d0cebc945eed20c394454b6fe069f7b7"
   }
  }
 },
 "nbformat": 4,
 "nbformat_minor": 2
}
